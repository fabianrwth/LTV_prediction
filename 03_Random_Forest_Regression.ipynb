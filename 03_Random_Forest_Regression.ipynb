{
 "cells": [
  {
   "cell_type": "code",
   "execution_count": 1,
   "metadata": {},
   "outputs": [],
   "source": [
    "# importing required libraries\n",
    "import matplotlib\n",
    "import pandas as pd\n",
    "from pandas_profiling import ProfileReport\n",
    "import numpy as np\n",
    "import sys\n",
    "from IPython.display import display\n",
    "from IPython.display import Image\n",
    "import warnings\n",
    "import matplotlib.pyplot as plt\n",
    "import datetime\n",
    "import pycountry_convert as pc\n",
    "import pycountry\n",
    "import folium\n",
    "import joblib\n",
    "from folium.plugins import MarkerCluster\n",
    "from geopy.geocoders import Nominatim\n",
    "\n",
    "from sklearn.ensemble import RandomForestRegressor\n",
    "from sklearn.datasets import make_classification\n",
    "from sklearn import metrics\n",
    "from sklearn.metrics import confusion_matrix\n",
    "from sklearn.metrics import ConfusionMatrixDisplay\n",
    "from sklearn.metrics import make_scorer\n",
    "\n",
    "from sklearn.metrics import cohen_kappa_score, mean_squared_error, mean_absolute_error, mean_absolute_percentage_error, mean_squared_log_error\n",
    "\n",
    "from sklearn.model_selection import KFold\n",
    "from sklearn.model_selection import cross_val_score\n",
    "from sklearn.model_selection import cross_validate\n",
    "\n",
    "from sklearn.tree import export_graphviz\n",
    "import pydot\n",
    "import seaborn as sns\n",
    "\n",
    "import time\n",
    "\n",
    "# library options\n",
    "%matplotlib inline\n",
    "pd.options.display.max_columns = None\n",
    "warnings.filterwarnings('ignore')"
   ]
  },
  {
   "cell_type": "markdown",
   "metadata": {},
   "source": [
    "## Read in the Train and Test data"
   ]
  },
  {
   "cell_type": "code",
   "execution_count": 2,
   "metadata": {},
   "outputs": [],
   "source": [
    "X_train = np.array(pd.read_parquet('../data/final/X_train.parquet')).astype('float')\n",
    "X_test = np.array(pd.read_parquet('../data/final/X_test.parquet')).astype('float')\n",
    "                      \n",
    "y_test_reg = np.array(pd.read_parquet('../data/final/y_test.parquet')['sum_payments_package_key_ltv']).astype('float')\n",
    "y_train_reg = np.array(pd.read_parquet('../data/final/y_train.parquet')['sum_payments_package_key_ltv']).astype('float')"
   ]
  },
  {
   "cell_type": "markdown",
   "metadata": {},
   "source": [
    "### Extra without transactional data"
   ]
  },
  {
   "cell_type": "code",
   "execution_count": 3,
   "metadata": {},
   "outputs": [],
   "source": [
    "X1 = pd.read_parquet('../data/final/X_train.parquet')\n",
    "X2 = pd.read_parquet('../data/final/X_test.parquet')\n",
    "y1 = np.array(pd.read_parquet('../data/final/y_train.parquet')['sum_payments_package_key_ltv'])\n",
    "y2 = np.array(pd.read_parquet('../data/final/y_test.parquet')['sum_payments_package_key_ltv'])"
   ]
  },
  {
   "cell_type": "code",
   "execution_count": 4,
   "metadata": {},
   "outputs": [],
   "source": [
    "X1 = X1.drop(axis=0, columns=['sum_day_1','sum_day_2','sum_day_3','gradient','clumpiness'])\n",
    "X2 = X2.drop(axis=0, columns=['sum_day_1','sum_day_2','sum_day_3','gradient','clumpiness'])\n",
    "X = np.concatenate((X1, X2), axis=0).astype('float')\n",
    "y = np.concatenate((y1, y2), axis=0)"
   ]
  },
  {
   "cell_type": "code",
   "execution_count": 5,
   "metadata": {},
   "outputs": [],
   "source": [
    "rfr = RandomForestRegressor(n_estimators = 150, random_state = 42)\n",
    "scoring  = {'mse' : make_scorer(mean_squared_error), 'mae' : make_scorer(mean_absolute_error), 'mape' : make_scorer(mean_absolute_percentage_error), 'msl' : make_scorer(mean_squared_log_error)}\n",
    "\n",
    "score = cross_validate(estimator=rfr, X=X, y=y, cv=10, scoring=scoring)"
   ]
  },
  {
   "cell_type": "code",
   "execution_count": 6,
   "metadata": {},
   "outputs": [
    {
     "name": "stdout",
     "output_type": "stream",
     "text": [
      "MSE = 775.3283863346481 and SD = 20.578586556220188\n",
      "MAE = 16.014040083031173 and SD = 0.16251135985753837\n",
      "MAPE = 1.7899690183334331 and SD = 0.018154792530813157\n",
      "MSL = 0.8510783736651467 and SD = 0.009517261138386907\n"
     ]
    }
   ],
   "source": [
    "print('MSE = ' + str(score.get('test_mse').mean()) + ' and SD = ' + str(score.get('test_mse').std()))\n",
    "print('MAE = ' + str(score.get('test_mae').mean()) + ' and SD = ' + str(score.get('test_mae').std()))\n",
    "print('MAPE = ' + str(score.get('test_mape').mean()) + ' and SD = ' + str(score.get('test_mape').std()))\n",
    "print('MSL = ' + str(score.get('test_msl').mean()) + ' and SD = ' + str(score.get('test_msl').std()))"
   ]
  },
  {
   "cell_type": "markdown",
   "metadata": {},
   "source": [
    "## RF"
   ]
  },
  {
   "cell_type": "markdown",
   "metadata": {},
   "source": [
    "### Regression"
   ]
  },
  {
   "cell_type": "code",
   "execution_count": 7,
   "metadata": {},
   "outputs": [
    {
     "data": {
      "text/plain": [
       "RandomForestRegressor(random_state=42)"
      ]
     },
     "execution_count": 7,
     "metadata": {},
     "output_type": "execute_result"
    }
   ],
   "source": [
    "rfr = RandomForestRegressor(n_estimators = 100, random_state = 42)\n",
    "\n",
    "# Train the model on training data\n",
    "rfr.fit(X_train, y_train_reg)"
   ]
  },
  {
   "cell_type": "code",
   "execution_count": 4,
   "metadata": {},
   "outputs": [],
   "source": [
    "y_pred_r = rfr.predict(X_test)"
   ]
  },
  {
   "cell_type": "code",
   "execution_count": 5,
   "metadata": {},
   "outputs": [
    {
     "name": "stdout",
     "output_type": "stream",
     "text": [
      "explained_variance: 0.5573175753297954\n",
      "neg_mean_absolute_error: 15.654522781594391\n",
      "neg_mean_squared_error: 772.5040054627561\n",
      "neg_mean_absolute_percentage_error: 1.753230528837545\n"
     ]
    }
   ],
   "source": [
    "# Model Accuracy\n",
    "print(\"explained_variance:\",metrics.explained_variance_score(y_test_reg, y_pred_r))\n",
    "print(\"neg_mean_absolute_error:\",metrics.mean_absolute_error(y_test_reg, y_pred_r))\n",
    "print(\"neg_mean_squared_error:\",metrics.mean_squared_error(y_test_reg, y_pred_r))\n",
    "print(\"neg_mean_absolute_percentage_error:\",metrics.mean_absolute_percentage_error(y_test_reg, y_pred_r))"
   ]
  },
  {
   "cell_type": "markdown",
   "metadata": {},
   "source": [
    "### Tuning"
   ]
  },
  {
   "cell_type": "code",
   "execution_count": 21,
   "metadata": {},
   "outputs": [
    {
     "name": "stdout",
     "output_type": "stream",
     "text": [
      "MSE for 20 trees: 807.8581347795013 in 90.99 seconds\n",
      "MSE for 40 trees: 786.8596779399688 in 181.63 seconds\n",
      "MSE for 60 trees: 777.7796969068288 in 272.65 seconds\n",
      "MSE for 80 trees: 774.4439932176117 in 369.93 seconds\n",
      "MSE for 100 trees: 772.5040054627561 in 458.76 seconds\n",
      "MSE for 120 trees: 771.4112489911414 in 548.47 seconds\n",
      "MSE for 150 trees: 770.7465984683188 in 687.45 seconds\n",
      "MSE for 200 trees: 769.5381403207202 in 910.28 seconds\n"
     ]
    }
   ],
   "source": [
    "for i in [20,40,60,80,100,120,150,200]:\n",
    "    start_time = time.time()\n",
    "    rfr = RandomForestRegressor(n_estimators = i, random_state = 42)\n",
    "    rfr.fit(X_train, y_train_reg)\n",
    "    y_pred_r = rfr.predict(X_test)\n",
    "    print(\"MSE for\", i, \"trees:\", metrics.mean_squared_error(y_test_reg, y_pred_r), \"in\", round(time.time() - start_time, 2), \"seconds\")"
   ]
  },
  {
   "cell_type": "code",
   "execution_count": 22,
   "metadata": {},
   "outputs": [],
   "source": [
    "rfr = RandomForestRegressor(n_estimators = 150, random_state = 42)\n",
    "inputs = np.concatenate((X_train, X_test), axis=0)\n",
    "targets = np.concatenate((y_train_reg, y_test_reg), axis=0)\n",
    "scoring  = {'mse' : make_scorer(mean_squared_error), 'mae' : make_scorer(mean_absolute_error), 'mape' : make_scorer(mean_absolute_percentage_error), 'msl' : make_scorer(mean_squared_log_error)}\n",
    "\n",
    "score = cross_validate(estimator=rfr, X=inputs, y=targets, cv=10, scoring=scoring)"
   ]
  },
  {
   "cell_type": "code",
   "execution_count": 23,
   "metadata": {},
   "outputs": [
    {
     "data": {
      "text/plain": [
       "{'fit_time': array([716.82550693, 720.37387466, 715.73007488, 710.82220292,\n",
       "        708.45105624, 711.28887415, 708.96021366, 720.07514334,\n",
       "        717.27077556, 716.44385862]),\n",
       " 'score_time': array([0.53448606, 0.53448963, 0.56253314, 0.53048253, 0.53233743,\n",
       "        0.54361725, 0.52313161, 0.52804971, 0.5236876 , 0.54185104]),\n",
       " 'test_mse': array([743.1586161 , 747.34154653, 729.6891178 , 718.28790592,\n",
       "        788.31727494, 765.52877331, 781.68085742, 768.06773947,\n",
       "        783.09749033, 762.86894701]),\n",
       " 'test_mae': array([15.52109636, 15.56679304, 15.35829953, 15.38959276, 15.9304411 ,\n",
       "        15.52461362, 15.85865869, 15.68655851, 15.73548572, 15.63977027]),\n",
       " 'test_mape': array([1.75914805, 1.72617684, 1.76255951, 1.7510513 , 1.73409886,\n",
       "        1.75068091, 1.78597342, 1.77589573, 1.76280022, 1.75483113]),\n",
       " 'test_msl': array([0.84395918, 0.82342354, 0.82215028, 0.82619226, 0.82981001,\n",
       "        0.82953917, 0.84643864, 0.83785139, 0.85319617, 0.83893637])}"
      ]
     },
     "execution_count": 23,
     "metadata": {},
     "output_type": "execute_result"
    }
   ],
   "source": [
    "score"
   ]
  },
  {
   "cell_type": "code",
   "execution_count": 24,
   "metadata": {},
   "outputs": [
    {
     "name": "stdout",
     "output_type": "stream",
     "text": [
      "MSE = 758.8038268823369 and STD = 22.355127011543807\n",
      "MAE = 15.621130959665123 and STD = 0.17741556150223817\n",
      "MAPE = 1.7563215966940287 and STD = 0.016779815184257186\n",
      "MSL = 0.8351497017730972 and STD = 0.009995369072203724\n"
     ]
    }
   ],
   "source": [
    "print('MSE = ' + str(score.get('test_mse').mean()) + ' and SD = ' + str(score.get('test_mse').std()))\n",
    "print('MAE = ' + str(score.get('test_mae').mean()) + ' and SD = ' + str(score.get('test_mae').std()))\n",
    "print('MAPE = ' + str(score.get('test_mape').mean()) + ' and SD = ' + str(score.get('test_mape').std()))\n",
    "print('MSL = ' + str(score.get('test_msl').mean()) + ' and SD = ' + str(score.get('test_msl').std()))"
   ]
  },
  {
   "cell_type": "code",
   "execution_count": null,
   "metadata": {},
   "outputs": [],
   "source": []
  }
 ],
 "metadata": {
  "kernelspec": {
   "display_name": "Python 3",
   "language": "python",
   "name": "python3"
  },
  "language_info": {
   "codemirror_mode": {
    "name": "ipython",
    "version": 3
   },
   "file_extension": ".py",
   "mimetype": "text/x-python",
   "name": "python",
   "nbconvert_exporter": "python",
   "pygments_lexer": "ipython3",
   "version": "3.7.9"
  }
 },
 "nbformat": 4,
 "nbformat_minor": 4
}
