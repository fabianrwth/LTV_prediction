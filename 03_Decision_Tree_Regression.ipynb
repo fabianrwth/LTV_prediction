{
 "cells": [
  {
   "cell_type": "code",
   "execution_count": 1,
   "metadata": {},
   "outputs": [],
   "source": [
    "# importing required libraries\n",
    "import matplotlib\n",
    "import pandas as pd\n",
    "from pandas_profiling import ProfileReport\n",
    "import numpy as np\n",
    "import sys\n",
    "from IPython.display import display\n",
    "from IPython.display import Image\n",
    "import warnings\n",
    "import matplotlib.pyplot as plt\n",
    "import datetime\n",
    "import pycountry_convert as pc\n",
    "import pycountry\n",
    "import folium\n",
    "import joblib\n",
    "from folium.plugins import MarkerCluster\n",
    "from geopy.geocoders import Nominatim\n",
    "\n",
    "from sklearn.tree import DecisionTreeRegressor\n",
    "from sklearn.datasets import make_classification\n",
    "from sklearn import metrics\n",
    "from sklearn.metrics import make_scorer\n",
    "\n",
    "from sklearn.metrics import mean_squared_error, mean_absolute_error, mean_absolute_percentage_error, mean_squared_log_error\n",
    "\n",
    "\n",
    "from sklearn.model_selection import KFold\n",
    "from sklearn.model_selection import cross_val_score\n",
    "from sklearn.model_selection import cross_validate\n",
    "\n",
    "from sklearn.tree import export_graphviz\n",
    "import pydot\n",
    "import seaborn as sns\n",
    "\n",
    "# library options\n",
    "%matplotlib inline\n",
    "pd.options.display.max_columns = None\n",
    "warnings.filterwarnings('ignore')"
   ]
  },
  {
   "cell_type": "markdown",
   "metadata": {},
   "source": [
    "## Read in the Train and Test data"
   ]
  },
  {
   "cell_type": "code",
   "execution_count": 2,
   "metadata": {},
   "outputs": [],
   "source": [
    "X_train = np.array(pd.read_parquet('../data/final/X_train.parquet')).astype('float')\n",
    "X_test = np.array(pd.read_parquet('../data/final/X_test.parquet')).astype('float')\n",
    "\n",
    "y_test_reg = np.array(pd.read_parquet('../data/final/y_test.parquet')['sum_payments_package_key_ltv']).astype('float')\n",
    "y_train_reg = np.array(pd.read_parquet('../data/final/y_train.parquet')['sum_payments_package_key_ltv']).astype('float')"
   ]
  },
  {
   "cell_type": "markdown",
   "metadata": {},
   "source": [
    "### Extra analysis without transactional data"
   ]
  },
  {
   "cell_type": "code",
   "execution_count": 7,
   "metadata": {},
   "outputs": [],
   "source": [
    "X1 = pd.read_parquet('../data/final/X_train.parquet')\n",
    "X2 = pd.read_parquet('../data/final/X_test.parquet')\n",
    "y1 = np.array(pd.read_parquet('../data/final/y_train.parquet')['sum_payments_package_key_ltv'])\n",
    "y2 = np.array(pd.read_parquet('../data/final/y_test.parquet')['sum_payments_package_key_ltv'])"
   ]
  },
  {
   "cell_type": "code",
   "execution_count": 8,
   "metadata": {},
   "outputs": [],
   "source": [
    "X1 = X1.drop(axis=0, columns=['sum_day_1','sum_day_2','sum_day_3','gradient','clumpiness'])\n",
    "X2 = X2.drop(axis=0, columns=['sum_day_1','sum_day_2','sum_day_3','gradient','clumpiness'])\n",
    "X = np.concatenate((X1, X2), axis=0).astype('float')\n",
    "y = np.concatenate((y1, y2), axis=0)"
   ]
  },
  {
   "cell_type": "code",
   "execution_count": 9,
   "metadata": {},
   "outputs": [],
   "source": [
    "dtr = DecisionTreeRegressor(random_state=42)\n",
    "scoring  = {'mse' : make_scorer(mean_squared_error), 'mae' : make_scorer(mean_absolute_error), 'mape' : make_scorer(mean_absolute_percentage_error), 'msl' : make_scorer(mean_squared_log_error)}\n",
    "\n",
    "score = cross_validate(estimator=dtr, X=X, y=y, cv=10, scoring=scoring)"
   ]
  },
  {
   "cell_type": "code",
   "execution_count": 10,
   "metadata": {},
   "outputs": [
    {
     "name": "stdout",
     "output_type": "stream",
     "text": [
      "MSE = 1612.5302454370358 and SD = 29.887403568029892\n",
      "MAE = 19.001310135673236 and SD = 0.21896852827557853\n",
      "MAPE = 1.90785823759589 and SD = 0.0857137323923946\n",
      "MSL = 1.0732467582900969 and SD = 0.021139608421549543\n"
     ]
    }
   ],
   "source": [
    "print('MSE = ' + str(score.get('test_mse').mean()) + ' and SD = ' + str(score.get('test_mse').std()))\n",
    "print('MAE = ' + str(score.get('test_mae').mean()) + ' and SD = ' + str(score.get('test_mae').std()))\n",
    "print('MAPE = ' + str(score.get('test_mape').mean()) + ' and SD = ' + str(score.get('test_mape').std()))\n",
    "print('MSL = ' + str(score.get('test_msl').mean()) + ' and SD = ' + str(score.get('test_msl').std()))"
   ]
  },
  {
   "cell_type": "markdown",
   "metadata": {},
   "source": [
    "### Regression"
   ]
  },
  {
   "cell_type": "code",
   "execution_count": 7,
   "metadata": {},
   "outputs": [
    {
     "data": {
      "text/plain": [
       "DecisionTreeRegressor(random_state=42)"
      ]
     },
     "execution_count": 7,
     "metadata": {},
     "output_type": "execute_result"
    }
   ],
   "source": [
    "dtr = DecisionTreeRegressor(random_state=42)\n",
    "\n",
    "# Train the model on training data\n",
    "dtr.fit(X_train, y_train_reg)"
   ]
  },
  {
   "cell_type": "code",
   "execution_count": 8,
   "metadata": {},
   "outputs": [],
   "source": [
    "y_pred_r = dtr.predict(X_test)"
   ]
  },
  {
   "cell_type": "code",
   "execution_count": 9,
   "metadata": {},
   "outputs": [
    {
     "name": "stdout",
     "output_type": "stream",
     "text": [
      "explained_variance: 0.07658172975859778\n",
      "neg_mean_absolute_error: 18.722827751538574\n",
      "neg_mean_squared_error: 1610.1351273829966\n",
      "neg_mean_absolute_percentage_error: 1.9736449312818134\n"
     ]
    }
   ],
   "source": [
    "# Model Accuracy\n",
    "print(\"explained_variance:\",metrics.explained_variance_score(y_test_reg, y_pred_r))\n",
    "print(\"neg_mean_absolute_error:\",metrics.mean_absolute_error(y_test_reg, y_pred_r))\n",
    "print(\"neg_mean_squared_error:\",metrics.mean_squared_error(y_test_reg, y_pred_r))\n",
    "print(\"neg_mean_absolute_percentage_error:\",metrics.mean_absolute_percentage_error(y_test_reg, y_pred_r))"
   ]
  },
  {
   "cell_type": "code",
   "execution_count": 10,
   "metadata": {},
   "outputs": [],
   "source": [
    "inputs = np.concatenate((X_train, X_test), axis=0)\n",
    "targets = np.concatenate((y_train_reg, y_test_reg), axis=0)\n",
    "scoring  = {'mse' : make_scorer(mean_squared_error), 'mae' : make_scorer(mean_absolute_error), 'mape' : make_scorer(mean_absolute_percentage_error), 'msl' : make_scorer(mean_squared_log_error)}\n",
    "\n",
    "score = cross_validate(estimator=dtr, X=inputs, y=targets, cv=10, scoring=scoring)"
   ]
  },
  {
   "cell_type": "code",
   "execution_count": 11,
   "metadata": {},
   "outputs": [
    {
     "data": {
      "text/plain": [
       "{'fit_time': array([8.22232819, 8.38334489, 8.17297506, 8.25596595, 8.38779187,\n",
       "        8.17417622, 8.10618043, 7.99035001, 8.17844176, 8.09929371]),\n",
       " 'score_time': array([0.01000905, 0.00800753, 0.00900817, 0.00900769, 0.00900769,\n",
       "        0.00799704, 0.00900817, 0.00900841, 0.00900149, 0.00900817]),\n",
       " 'test_mse': array([1582.36933441, 1546.86612715, 1523.54351103, 1528.47590277,\n",
       "        1611.09150666, 1543.73538265, 1593.79448678, 1570.36143917,\n",
       "        1563.77963191, 1565.73587142]),\n",
       " 'test_mae': array([18.61379347, 18.43987835, 18.27263418, 18.18608773, 18.8707242 ,\n",
       "        18.34258265, 18.72652068, 18.46512452, 18.45814298, 18.52913333]),\n",
       " 'test_mape': array([1.95824218, 1.93256101, 1.92402477, 1.78447975, 1.76288844,\n",
       "        1.80829647, 1.98335546, 1.84288162, 1.86366373, 1.86806721]),\n",
       " 'test_msl': array([1.08599611, 1.0765764 , 1.0644259 , 1.01258113, 1.05120694,\n",
       "        1.05309267, 1.06930617, 1.04486613, 1.07407234, 1.05076448])}"
      ]
     },
     "execution_count": 11,
     "metadata": {},
     "output_type": "execute_result"
    }
   ],
   "source": [
    "score"
   ]
  },
  {
   "cell_type": "code",
   "execution_count": 12,
   "metadata": {},
   "outputs": [
    {
     "name": "stdout",
     "output_type": "stream",
     "text": [
      "MSE = 1562.97531939367 and SD = 26.60582117491754\n",
      "MAE = 18.490462209341125 and SD = 0.1957639740683085\n",
      "MAPE = 1.872846065215755 and SD = 0.07124669435471406\n",
      "MSL = 1.0582888267711517 and SD = 0.019782378496614968\n"
     ]
    }
   ],
   "source": [
    "print('MSE = ' + str(score.get('test_mse').mean()) + ' and SD = ' + str(score.get('test_mse').std()))\n",
    "print('MAE = ' + str(score.get('test_mae').mean()) + ' and SD = ' + str(score.get('test_mae').std()))\n",
    "print('MAPE = ' + str(score.get('test_mape').mean()) + ' and SD = ' + str(score.get('test_mape').std()))\n",
    "print('MSL = ' + str(score.get('test_msl').mean()) + ' and SD = ' + str(score.get('test_msl').std()))"
   ]
  },
  {
   "cell_type": "code",
   "execution_count": null,
   "metadata": {},
   "outputs": [],
   "source": []
  }
 ],
 "metadata": {
  "kernelspec": {
   "display_name": "Python 3",
   "language": "python",
   "name": "python3"
  },
  "language_info": {
   "codemirror_mode": {
    "name": "ipython",
    "version": 3
   },
   "file_extension": ".py",
   "mimetype": "text/x-python",
   "name": "python",
   "nbconvert_exporter": "python",
   "pygments_lexer": "ipython3",
   "version": "3.7.9"
  }
 },
 "nbformat": 4,
 "nbformat_minor": 4
}
