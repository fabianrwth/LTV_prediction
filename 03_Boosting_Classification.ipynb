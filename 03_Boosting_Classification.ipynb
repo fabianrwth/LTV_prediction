{
 "cells": [
  {
   "cell_type": "code",
   "execution_count": 45,
   "metadata": {},
   "outputs": [],
   "source": [
    "# importing required libraries\n",
    "import pandas as pd\n",
    "import numpy as np\n",
    "import matplotlib.pyplot as plt\n",
    "import os\n",
    "from IPython.display import display\n",
    "import warnings\n",
    "\n",
    "import time\n",
    "\n",
    "from sklearn.ensemble import AdaBoostClassifier\n",
    "from sklearn.ensemble import GradientBoostingClassifier\n",
    "import xgboost as xgb\n",
    "\n",
    "from sklearn import metrics\n",
    "from sklearn.metrics import make_scorer\n",
    "from sklearn.metrics import accuracy_score, cohen_kappa_score\n",
    "from sklearn.model_selection import cross_val_score\n",
    "from sklearn.model_selection import cross_validate\n",
    "from sklearn.model_selection import KFold\n",
    "\n",
    "from sklearn.utils import resample\n",
    "from sklearn.model_selection import GridSearchCV\n",
    "from sklearn.model_selection import RandomizedSearchCV\n",
    "\n",
    "from sklearn.metrics import confusion_matrix, ConfusionMatrixDisplay\n",
    "\n",
    "# library options\n",
    "%matplotlib inline\n",
    "pd.options.display.max_columns = None\n",
    "warnings.filterwarnings('ignore')"
   ]
  },
  {
   "cell_type": "markdown",
   "metadata": {},
   "source": [
    "##### Loading Datasets"
   ]
  },
  {
   "cell_type": "code",
   "execution_count": 5,
   "metadata": {},
   "outputs": [],
   "source": [
    "X_train = pd.read_parquet('../data/final/X_train.parquet')\n",
    "X_test = pd.read_parquet('../data/final/X_test.parquet')\n",
    "                      \n",
    "y_test_class = pd.read_parquet('../data/final/y_test.parquet')['sum_payments_package_key_ltv_class']\n",
    "y_train_class = pd.read_parquet('../data/final/y_train.parquet')['sum_payments_package_key_ltv_class']\n"
   ]
  },
  {
   "cell_type": "markdown",
   "metadata": {},
   "source": [
    "##### Settings for K-Fold Cross-Validation"
   ]
  },
  {
   "cell_type": "code",
   "execution_count": 27,
   "metadata": {},
   "outputs": [],
   "source": [
    "num_folds = 10\n",
    "kfold = KFold(n_splits=num_folds, shuffle=True)\n",
    "\n",
    "# with transactional features\n",
    "inputs = np.concatenate((X_train, X_test), axis=0)\n",
    "targets = np.concatenate((y_train_class, y_test_class), axis=0)\n",
    "\n",
    "# withhout transactional features\n",
    "X_train_0 = X_train.drop(['sum_day_1','sum_day_2','sum_day_3','gradient','clumpiness'], axis=1).values\n",
    "X_test_0 = X_test.drop(['sum_day_1','sum_day_2','sum_day_3','gradient','clumpiness'], axis=1).values\n",
    "\n",
    "inputs_0 = np.concatenate((X_train_0, X_test_0), axis=0)\n",
    "\n"
   ]
  },
  {
   "cell_type": "markdown",
   "metadata": {},
   "source": [
    "### AdaBoost Classifcation"
   ]
  },
  {
   "cell_type": "markdown",
   "metadata": {},
   "source": [
    "##### K-Fold Cross-Validation"
   ]
  },
  {
   "cell_type": "code",
   "execution_count": 30,
   "metadata": {},
   "outputs": [
    {
     "name": "stdout",
     "output_type": "stream",
     "text": [
      "------------------------------------------------------------------------\n",
      "Training for fold 1 ...\n",
      "------------------------------------------------------------------------\n",
      "Training for fold 2 ...\n",
      "------------------------------------------------------------------------\n",
      "Training for fold 3 ...\n",
      "------------------------------------------------------------------------\n",
      "Training for fold 4 ...\n",
      "------------------------------------------------------------------------\n",
      "Training for fold 5 ...\n",
      "------------------------------------------------------------------------\n",
      "Training for fold 6 ...\n",
      "------------------------------------------------------------------------\n",
      "Training for fold 7 ...\n",
      "------------------------------------------------------------------------\n",
      "Training for fold 8 ...\n",
      "------------------------------------------------------------------------\n",
      "Training for fold 9 ...\n",
      "------------------------------------------------------------------------\n",
      "Training for fold 10 ...\n",
      "Accuracy Score ---- mean:  0.6845690815869502 --- std:  0.016570696678803357\n",
      "Cohen Kappa Score ---- mean:  0.5233473840934488 --- std:  0.02619675195724584\n"
     ]
    }
   ],
   "source": [
    "# K-fold Cross Validation model evaluation\n",
    "fold_no = 1\n",
    "\n",
    "# Initalize empty scores list\n",
    "scores = np.zeros(shape=(2,num_folds))\n",
    "\n",
    "for train, test in kfold.split(inputs, targets):\n",
    "    \n",
    "    print('------------------------------------------------------------------------')\n",
    "    print(f'Training for fold {fold_no} ...')\n",
    "\n",
    "    # Chosing Model\n",
    "    model = AdaBoostClassifier()\n",
    "    model.fit(inputs[train], targets[train])\n",
    "\n",
    "    y_predict = model.predict(inputs[test])\n",
    "\n",
    "    # filling scores list with the chosen sco\n",
    "    scores[0,fold_no -1] = metrics.accuracy_score(targets[test], y_predict)\n",
    "    scores[1,fold_no -1] = metrics.cohen_kappa_score(targets[test], y_predict)\n",
    "    # Increase fold number\n",
    "    fold_no = fold_no + 1\n",
    "    \n",
    "scores_ada = scores\n",
    "\n",
    "print('Accuracy Score ---- mean: ',scores_ada[0].mean(), '--- std: ',scores_ada[0].std())\n",
    "print('Cohen Kappa Score ---- mean: ',scores_ada[1].mean(), '--- std: ',scores_ada[1].std())\n"
   ]
  },
  {
   "cell_type": "markdown",
   "metadata": {},
   "source": [
    "##### Without transactional features"
   ]
  },
  {
   "cell_type": "code",
   "execution_count": 12,
   "metadata": {},
   "outputs": [
    {
     "name": "stdout",
     "output_type": "stream",
     "text": [
      "------------------------------------------------------------------------\n",
      "Training for fold 1 ...\n",
      "------------------------------------------------------------------------\n",
      "Training for fold 2 ...\n",
      "--------------WITHOUT TRANSACTIONAL FEATURES-----------\n",
      "Accuracy Score ---- mean:  0.6615332242031394 --- std:  0.008783077500023606\n",
      "Cohen Kappa Score ---- mean:  0.48902547945126273 --- std:  0.019234029782506212\n"
     ]
    }
   ],
   "source": [
    "# K-fold Cross Validation model evaluation\n",
    "fold_no = 1\n",
    "\n",
    "# Initalize empty scores list\n",
    "scores = np.zeros(shape=(2,num_folds))\n",
    "\n",
    "for train, test in kfold.split(inputs_0, targets):\n",
    "    \n",
    "    print('------------------------------------------------------------------------')\n",
    "    print(f'Training for fold {fold_no} ...')\n",
    "\n",
    "    # Chosing Model\n",
    "    model = AdaBoostClassifier()\n",
    "    model.fit(inputs_0[train], targets[train])\n",
    "\n",
    "    y_predict = model.predict(inputs_0[test])\n",
    "\n",
    "    # filling scores list with the chosen sco\n",
    "    scores[0,fold_no -1] = accuracy_score(targets[test], y_predict)\n",
    "    scores[1,fold_no -1] = metrics.cohen_kappa_score(targets[test], y_predict)\n",
    "    \n",
    "    # Increase fold number\n",
    "    fold_no = fold_no + 1\n",
    "    \n",
    "scores_ada = scores\n",
    "print('--------------WITHOUT TRANSACTIONAL FEATURES-----------')\n",
    "print('Accuracy Score ---- mean: ',scores_ada[0].mean(), '--- std: ',scores_ada[0].std())\n",
    "print('Cohen Kappa Score ---- mean: ',scores_ada[1].mean(), '--- std: ',scores_ada[1].std())"
   ]
  },
  {
   "cell_type": "markdown",
   "metadata": {},
   "source": [
    "### Gradient Boosting Classifcation"
   ]
  },
  {
   "cell_type": "markdown",
   "metadata": {},
   "source": [
    "##### K-Fold Cross-Validation"
   ]
  },
  {
   "cell_type": "code",
   "execution_count": 31,
   "metadata": {},
   "outputs": [
    {
     "name": "stdout",
     "output_type": "stream",
     "text": [
      "------------------------------------------------------------------------\n",
      "Training for fold 1 ...\n",
      "------------------------------------------------------------------------\n",
      "Training for fold 2 ...\n",
      "------------------------------------------------------------------------\n",
      "Training for fold 3 ...\n",
      "------------------------------------------------------------------------\n",
      "Training for fold 4 ...\n",
      "------------------------------------------------------------------------\n",
      "Training for fold 5 ...\n",
      "------------------------------------------------------------------------\n",
      "Training for fold 6 ...\n",
      "------------------------------------------------------------------------\n",
      "Training for fold 7 ...\n",
      "------------------------------------------------------------------------\n",
      "Training for fold 8 ...\n",
      "------------------------------------------------------------------------\n",
      "Training for fold 9 ...\n",
      "------------------------------------------------------------------------\n",
      "Training for fold 10 ...\n",
      "Accuracy Score ---- mean:  0.8540063863581352 --- std:  0.0021174679225555307\n",
      "Cohen Kappa Score ---- mean:  0.7784333510001821 --- std:  0.003426131632805165\n"
     ]
    }
   ],
   "source": [
    "# K-fold Cross Validation model evaluation\n",
    "fold_no = 1\n",
    "\n",
    "# Initalize empty scores list\n",
    "scores = np.zeros(shape=(2,num_folds))\n",
    "\n",
    "for train, test in kfold.split(inputs, targets):\n",
    "    \n",
    "    print('------------------------------------------------------------------------')\n",
    "    print(f'Training for fold {fold_no} ...')\n",
    "\n",
    "    # Chosing Model\n",
    "    model = GradientBoostingClassifier()\n",
    "    model.fit(inputs[train], targets[train])\n",
    "\n",
    "    y_predict = model.predict(inputs[test])\n",
    "    y_predict_clipped = y_predict.clip(min=0) # setting min value to zero  (requirement for log_error)\n",
    "\n",
    "    # filling scores list with the chosen sco\n",
    "    scores[0,fold_no -1] = accuracy_score(targets[test], y_predict)\n",
    "    scores[1,fold_no -1] = metrics.cohen_kappa_score(targets[test], y_predict)\n",
    "    \n",
    "    # Increase fold number\n",
    "    fold_no = fold_no + 1\n",
    "    \n",
    "scores_gb = scores\n",
    "\n",
    "print('Accuracy Score ---- mean: ',scores_gb[0].mean(), '--- std: ',scores_gb[0].std())\n",
    "print('Cohen Kappa Score ---- mean: ',scores_gb[1].mean(), '--- std: ',scores_gb[1].std())\n"
   ]
  },
  {
   "cell_type": "markdown",
   "metadata": {},
   "source": [
    "##### Without transactional features"
   ]
  },
  {
   "cell_type": "code",
   "execution_count": 15,
   "metadata": {},
   "outputs": [
    {
     "name": "stdout",
     "output_type": "stream",
     "text": [
      "------------------------------------------------------------------------\n",
      "Training for fold 1 ...\n",
      "------------------------------------------------------------------------\n",
      "Training for fold 2 ...\n",
      "--------------WITHOUT TRANSACTIONAL FEATURES-----------\n",
      "Accuracy Score ---- mean:  0.8532406841040265 --- std:  4.398742882011364e-05\n",
      "Cohen Kappa Score ---- mean:  0.7772502143732426 --- std:  2.9936743911607167e-06\n"
     ]
    }
   ],
   "source": [
    "# K-fold Cross Validation model evaluation\n",
    "fold_no = 1\n",
    "\n",
    "# Initalize empty scores list\n",
    "scores = np.zeros(shape=(2,num_folds))\n",
    "\n",
    "for train, test in kfold.split(inputs_0, targets):\n",
    "    \n",
    "    print('------------------------------------------------------------------------')\n",
    "    print(f'Training for fold {fold_no} ...')\n",
    "\n",
    "    # Chosing Model\n",
    "    model = GradientBoostingClassifier()\n",
    "    model.fit(inputs_0[train], targets[train])\n",
    "\n",
    "    y_predict = model.predict(inputs_0[test])\n",
    "    y_predict_clipped = y_predict.clip(min=0) # setting min value to zero  (requirement for log_error)\n",
    "\n",
    "    # filling scores list with the chosen sco\n",
    "    scores[0,fold_no -1] = accuracy_score(targets[test], y_predict)\n",
    "    scores[1,fold_no -1] = metrics.cohen_kappa_score(targets[test], y_predict)\n",
    "    \n",
    "    # Increase fold number\n",
    "    fold_no = fold_no + 1\n",
    "    \n",
    "scores_gb = scores\n",
    "print('--------------WITHOUT TRANSACTIONAL FEATURES-----------')\n",
    "print('Accuracy Score ---- mean: ',scores_gb[0].mean(), '--- std: ',scores_gb[0].std())\n",
    "print('Cohen Kappa Score ---- mean: ',scores_gb[1].mean(), '--- std: ',scores_gb[1].std())"
   ]
  },
  {
   "cell_type": "markdown",
   "metadata": {},
   "source": [
    "### XGBoost Classifcation"
   ]
  },
  {
   "cell_type": "markdown",
   "metadata": {},
   "source": [
    "#### Hyperparameter Tuning with RandomSearch"
   ]
  },
  {
   "cell_type": "code",
   "execution_count": 20,
   "metadata": {},
   "outputs": [
    {
     "name": "stdout",
     "output_type": "stream",
     "text": [
      "Fitting 2 folds for each of 15 candidates, totalling 30 fits\n",
      "[CV] END colsample_bylevel=0.5, colsample_bytree=0.7999999999999999, learning_rate=0.2, max_depth=2, n_estimators=200, reg_alpha=0, reg_lambda=1, subsample=0.7999999999999999; total time=  47.2s\n",
      "[CV] END colsample_bylevel=0.5, colsample_bytree=0.7999999999999999, learning_rate=0.2, max_depth=2, n_estimators=200, reg_alpha=0, reg_lambda=1, subsample=0.7999999999999999; total time=  38.8s\n",
      "[CV] END colsample_bylevel=0.8999999999999999, colsample_bytree=0.4, learning_rate=0.1, max_depth=4, n_estimators=100, reg_alpha=0, reg_lambda=1, subsample=0.8999999999999999; total time=  29.1s\n",
      "[CV] END colsample_bylevel=0.8999999999999999, colsample_bytree=0.4, learning_rate=0.1, max_depth=4, n_estimators=100, reg_alpha=0, reg_lambda=1, subsample=0.8999999999999999; total time=  33.1s\n",
      "[CV] END colsample_bylevel=0.7999999999999999, colsample_bytree=0.7, learning_rate=0.2, max_depth=2, n_estimators=100, reg_alpha=1.2, reg_lambda=1.2, subsample=0.8999999999999999; total time=  26.1s\n",
      "[CV] END colsample_bylevel=0.7999999999999999, colsample_bytree=0.7, learning_rate=0.2, max_depth=2, n_estimators=100, reg_alpha=1.2, reg_lambda=1.2, subsample=0.8999999999999999; total time=  24.5s\n",
      "[CV] END colsample_bylevel=0.7, colsample_bytree=0.5, learning_rate=0.3, max_depth=2, n_estimators=50, reg_alpha=0, reg_lambda=0, subsample=0.5; total time=   9.9s\n",
      "[CV] END colsample_bylevel=0.7, colsample_bytree=0.5, learning_rate=0.3, max_depth=2, n_estimators=50, reg_alpha=0, reg_lambda=0, subsample=0.5; total time=  10.1s\n",
      "[CV] END colsample_bylevel=0.4, colsample_bytree=0.4, learning_rate=0.1, max_depth=3, n_estimators=50, reg_alpha=1.2, reg_lambda=0, subsample=0.7; total time=   9.0s\n",
      "[CV] END colsample_bylevel=0.4, colsample_bytree=0.4, learning_rate=0.1, max_depth=3, n_estimators=50, reg_alpha=1.2, reg_lambda=0, subsample=0.7; total time=  10.3s\n",
      "[CV] END colsample_bylevel=0.8999999999999999, colsample_bytree=0.7999999999999999, learning_rate=0.3, max_depth=2, n_estimators=150, reg_alpha=0, reg_lambda=0.5, subsample=0.7; total time=  40.3s\n",
      "[CV] END colsample_bylevel=0.8999999999999999, colsample_bytree=0.7999999999999999, learning_rate=0.3, max_depth=2, n_estimators=150, reg_alpha=0, reg_lambda=0.5, subsample=0.7; total time=  40.1s\n",
      "[CV] END colsample_bylevel=0.7, colsample_bytree=0.4, learning_rate=0.01, max_depth=4, n_estimators=200, reg_alpha=0.5, reg_lambda=1.2, subsample=0.7999999999999999; total time=  50.3s\n",
      "[CV] END colsample_bylevel=0.7, colsample_bytree=0.4, learning_rate=0.01, max_depth=4, n_estimators=200, reg_alpha=0.5, reg_lambda=1.2, subsample=0.7999999999999999; total time=  48.1s\n",
      "[CV] END colsample_bylevel=0.5, colsample_bytree=0.7999999999999999, learning_rate=0.01, max_depth=2, n_estimators=150, reg_alpha=1.2, reg_lambda=0.5, subsample=0.7999999999999999; total time=  28.0s\n",
      "[CV] END colsample_bylevel=0.5, colsample_bytree=0.7999999999999999, learning_rate=0.01, max_depth=2, n_estimators=150, reg_alpha=1.2, reg_lambda=0.5, subsample=0.7999999999999999; total time=  25.4s\n",
      "[CV] END colsample_bylevel=0.7999999999999999, colsample_bytree=0.8999999999999999, learning_rate=0.1, max_depth=3, n_estimators=200, reg_alpha=1.2, reg_lambda=1.2, subsample=0.5; total time= 1.0min\n",
      "[CV] END colsample_bylevel=0.7999999999999999, colsample_bytree=0.8999999999999999, learning_rate=0.1, max_depth=3, n_estimators=200, reg_alpha=1.2, reg_lambda=1.2, subsample=0.5; total time= 1.4min\n",
      "[CV] END colsample_bylevel=0.7, colsample_bytree=0.7999999999999999, learning_rate=0.2, max_depth=3, n_estimators=100, reg_alpha=0, reg_lambda=0.5, subsample=0.8999999999999999; total time=  30.8s\n",
      "[CV] END colsample_bylevel=0.7, colsample_bytree=0.7999999999999999, learning_rate=0.2, max_depth=3, n_estimators=100, reg_alpha=0, reg_lambda=0.5, subsample=0.8999999999999999; total time=  30.1s\n",
      "[CV] END colsample_bylevel=0.4, colsample_bytree=0.6, learning_rate=0.1, max_depth=3, n_estimators=200, reg_alpha=0, reg_lambda=0, subsample=0.7; total time=  37.5s\n",
      "[CV] END colsample_bylevel=0.4, colsample_bytree=0.6, learning_rate=0.1, max_depth=3, n_estimators=200, reg_alpha=0, reg_lambda=0, subsample=0.7; total time=  38.1s\n",
      "[CV] END colsample_bylevel=0.7999999999999999, colsample_bytree=0.6, learning_rate=0.1, max_depth=2, n_estimators=100, reg_alpha=1.2, reg_lambda=1.2, subsample=0.6; total time=  21.6s\n",
      "[CV] END colsample_bylevel=0.7999999999999999, colsample_bytree=0.6, learning_rate=0.1, max_depth=2, n_estimators=100, reg_alpha=1.2, reg_lambda=1.2, subsample=0.6; total time=  21.7s\n",
      "[CV] END colsample_bylevel=0.7, colsample_bytree=0.7, learning_rate=0.2, max_depth=3, n_estimators=150, reg_alpha=1.2, reg_lambda=0, subsample=0.6; total time=  42.6s\n",
      "[CV] END colsample_bylevel=0.7, colsample_bytree=0.7, learning_rate=0.2, max_depth=3, n_estimators=150, reg_alpha=1.2, reg_lambda=0, subsample=0.6; total time=  43.4s\n",
      "[CV] END colsample_bylevel=0.5, colsample_bytree=0.5, learning_rate=0.01, max_depth=2, n_estimators=150, reg_alpha=1.2, reg_lambda=1, subsample=0.5; total time=  23.1s\n",
      "[CV] END colsample_bylevel=0.5, colsample_bytree=0.5, learning_rate=0.01, max_depth=2, n_estimators=150, reg_alpha=1.2, reg_lambda=1, subsample=0.5; total time=  24.4s\n",
      "[CV] END colsample_bylevel=0.5, colsample_bytree=0.8999999999999999, learning_rate=0.01, max_depth=2, n_estimators=150, reg_alpha=0, reg_lambda=0.5, subsample=0.5; total time=  31.9s\n",
      "[CV] END colsample_bylevel=0.5, colsample_bytree=0.8999999999999999, learning_rate=0.01, max_depth=2, n_estimators=150, reg_alpha=0, reg_lambda=0.5, subsample=0.5; total time=  29.8s\n",
      "Best parameters: {'subsample': 0.7999999999999999, 'reg_lambda': 1, 'reg_alpha': 0, 'n_estimators': 200, 'max_depth': 2, 'learning_rate': 0.2, 'colsample_bytree': 0.7999999999999999, 'colsample_bylevel': 0.5}\n",
      "Best Accuracy:  0.8551404125494815\n"
     ]
    },
    {
     "ename": "KeyError",
     "evalue": "\"['param_class_alpha'] not in index\"",
     "output_type": "error",
     "traceback": [
      "\u001b[1;31m---------------------------------------------------------------------------\u001b[0m",
      "\u001b[1;31mKeyError\u001b[0m                                  Traceback (most recent call last)",
      "\u001b[1;32m<ipython-input-20-dac20b2c2154>\u001b[0m in \u001b[0;36m<module>\u001b[1;34m\u001b[0m\n\u001b[0;32m     25\u001b[0m \u001b[0mdf\u001b[0m \u001b[1;33m=\u001b[0m \u001b[0mpd\u001b[0m\u001b[1;33m.\u001b[0m\u001b[0mDataFrame\u001b[0m\u001b[1;33m(\u001b[0m\u001b[0mxgb_search\u001b[0m\u001b[1;33m.\u001b[0m\u001b[0mcv_results_\u001b[0m\u001b[1;33m)\u001b[0m\u001b[1;33m\u001b[0m\u001b[1;33m\u001b[0m\u001b[0m\n\u001b[0;32m     26\u001b[0m \u001b[1;33m\u001b[0m\u001b[0m\n\u001b[1;32m---> 27\u001b[1;33m df[['param_n_estimators',\n\u001b[0m\u001b[0;32m     28\u001b[0m \u001b[1;34m'param_learning_rate'\u001b[0m\u001b[1;33m,\u001b[0m\u001b[1;33m\u001b[0m\u001b[1;33m\u001b[0m\u001b[0m\n\u001b[0;32m     29\u001b[0m \u001b[1;34m'param_max_depth'\u001b[0m\u001b[1;33m,\u001b[0m\u001b[1;33m\u001b[0m\u001b[1;33m\u001b[0m\u001b[0m\n",
      "\u001b[1;32m~\\anaconda3\\lib\\site-packages\\pandas\\core\\frame.py\u001b[0m in \u001b[0;36m__getitem__\u001b[1;34m(self, key)\u001b[0m\n\u001b[0;32m   3462\u001b[0m             \u001b[1;32mif\u001b[0m \u001b[0mis_iterator\u001b[0m\u001b[1;33m(\u001b[0m\u001b[0mkey\u001b[0m\u001b[1;33m)\u001b[0m\u001b[1;33m:\u001b[0m\u001b[1;33m\u001b[0m\u001b[1;33m\u001b[0m\u001b[0m\n\u001b[0;32m   3463\u001b[0m                 \u001b[0mkey\u001b[0m \u001b[1;33m=\u001b[0m \u001b[0mlist\u001b[0m\u001b[1;33m(\u001b[0m\u001b[0mkey\u001b[0m\u001b[1;33m)\u001b[0m\u001b[1;33m\u001b[0m\u001b[1;33m\u001b[0m\u001b[0m\n\u001b[1;32m-> 3464\u001b[1;33m             \u001b[0mindexer\u001b[0m \u001b[1;33m=\u001b[0m \u001b[0mself\u001b[0m\u001b[1;33m.\u001b[0m\u001b[0mloc\u001b[0m\u001b[1;33m.\u001b[0m\u001b[0m_get_listlike_indexer\u001b[0m\u001b[1;33m(\u001b[0m\u001b[0mkey\u001b[0m\u001b[1;33m,\u001b[0m \u001b[0maxis\u001b[0m\u001b[1;33m=\u001b[0m\u001b[1;36m1\u001b[0m\u001b[1;33m)\u001b[0m\u001b[1;33m[\u001b[0m\u001b[1;36m1\u001b[0m\u001b[1;33m]\u001b[0m\u001b[1;33m\u001b[0m\u001b[1;33m\u001b[0m\u001b[0m\n\u001b[0m\u001b[0;32m   3465\u001b[0m \u001b[1;33m\u001b[0m\u001b[0m\n\u001b[0;32m   3466\u001b[0m         \u001b[1;31m# take() does not accept boolean indexers\u001b[0m\u001b[1;33m\u001b[0m\u001b[1;33m\u001b[0m\u001b[1;33m\u001b[0m\u001b[0m\n",
      "\u001b[1;32m~\\anaconda3\\lib\\site-packages\\pandas\\core\\indexing.py\u001b[0m in \u001b[0;36m_get_listlike_indexer\u001b[1;34m(self, key, axis)\u001b[0m\n\u001b[0;32m   1312\u001b[0m             \u001b[0mkeyarr\u001b[0m\u001b[1;33m,\u001b[0m \u001b[0mindexer\u001b[0m\u001b[1;33m,\u001b[0m \u001b[0mnew_indexer\u001b[0m \u001b[1;33m=\u001b[0m \u001b[0max\u001b[0m\u001b[1;33m.\u001b[0m\u001b[0m_reindex_non_unique\u001b[0m\u001b[1;33m(\u001b[0m\u001b[0mkeyarr\u001b[0m\u001b[1;33m)\u001b[0m\u001b[1;33m\u001b[0m\u001b[1;33m\u001b[0m\u001b[0m\n\u001b[0;32m   1313\u001b[0m \u001b[1;33m\u001b[0m\u001b[0m\n\u001b[1;32m-> 1314\u001b[1;33m         \u001b[0mself\u001b[0m\u001b[1;33m.\u001b[0m\u001b[0m_validate_read_indexer\u001b[0m\u001b[1;33m(\u001b[0m\u001b[0mkeyarr\u001b[0m\u001b[1;33m,\u001b[0m \u001b[0mindexer\u001b[0m\u001b[1;33m,\u001b[0m \u001b[0maxis\u001b[0m\u001b[1;33m)\u001b[0m\u001b[1;33m\u001b[0m\u001b[1;33m\u001b[0m\u001b[0m\n\u001b[0m\u001b[0;32m   1315\u001b[0m \u001b[1;33m\u001b[0m\u001b[0m\n\u001b[0;32m   1316\u001b[0m         if needs_i8_conversion(ax.dtype) or isinstance(\n",
      "\u001b[1;32m~\\anaconda3\\lib\\site-packages\\pandas\\core\\indexing.py\u001b[0m in \u001b[0;36m_validate_read_indexer\u001b[1;34m(self, key, indexer, axis)\u001b[0m\n\u001b[0;32m   1375\u001b[0m \u001b[1;33m\u001b[0m\u001b[0m\n\u001b[0;32m   1376\u001b[0m             \u001b[0mnot_found\u001b[0m \u001b[1;33m=\u001b[0m \u001b[0mlist\u001b[0m\u001b[1;33m(\u001b[0m\u001b[0mensure_index\u001b[0m\u001b[1;33m(\u001b[0m\u001b[0mkey\u001b[0m\u001b[1;33m)\u001b[0m\u001b[1;33m[\u001b[0m\u001b[0mmissing_mask\u001b[0m\u001b[1;33m.\u001b[0m\u001b[0mnonzero\u001b[0m\u001b[1;33m(\u001b[0m\u001b[1;33m)\u001b[0m\u001b[1;33m[\u001b[0m\u001b[1;36m0\u001b[0m\u001b[1;33m]\u001b[0m\u001b[1;33m]\u001b[0m\u001b[1;33m.\u001b[0m\u001b[0munique\u001b[0m\u001b[1;33m(\u001b[0m\u001b[1;33m)\u001b[0m\u001b[1;33m)\u001b[0m\u001b[1;33m\u001b[0m\u001b[1;33m\u001b[0m\u001b[0m\n\u001b[1;32m-> 1377\u001b[1;33m             \u001b[1;32mraise\u001b[0m \u001b[0mKeyError\u001b[0m\u001b[1;33m(\u001b[0m\u001b[1;34mf\"{not_found} not in index\"\u001b[0m\u001b[1;33m)\u001b[0m\u001b[1;33m\u001b[0m\u001b[1;33m\u001b[0m\u001b[0m\n\u001b[0m\u001b[0;32m   1378\u001b[0m \u001b[1;33m\u001b[0m\u001b[0m\n\u001b[0;32m   1379\u001b[0m \u001b[1;33m\u001b[0m\u001b[0m\n",
      "\u001b[1;31mKeyError\u001b[0m: \"['param_class_alpha'] not in index\""
     ]
    }
   ],
   "source": [
    "params = { 'max_depth': [2,3,4],\n",
    "    'learning_rate': [0.01, 0.1, 0.2, 0.3],\n",
    "    'subsample': np.arange(0.5, 1.0, 0.1),\n",
    "    'colsample_bytree': np.arange(0.4, 1.0, 0.1),\n",
    "    'colsample_bylevel': np.arange(0.4, 1.0, 0.1),\n",
    "    'n_estimators': [50, 100, 150, 200],\n",
    "    'reg_alpha': [0, 0.5, 1.2,],\n",
    "    'reg_lambda': [0, 0.5, 1, 1.2]}\n",
    "    \n",
    "xgbr = xgb.XGBClassifier(eval_metric='mlogloss')\n",
    "    \n",
    "xgb_search = RandomizedSearchCV(estimator=xgbr,\n",
    "                    cv=2,\n",
    "                    param_distributions=params,\n",
    "                    scoring='accuracy',\n",
    "                    n_iter=15,\n",
    "                    \n",
    "                    verbose=2)\n",
    "                    \n",
    "xgb_search.fit(X_train.values, y_train_class.values)\n",
    "                    \n",
    "print(\"Best parameters:\", xgb_search.best_params_)\n",
    "print(\"Best Accuracy: \", (xgb_search.best_score_))\n",
    "\n",
    "df = pd.DataFrame(xgb_search.cv_results_)\n",
    "\n",
    "df[['param_n_estimators',\n",
    "'param_learning_rate',\n",
    "'param_max_depth', \n",
    "'param_colsample_bytree', \n",
    "'param_colsample_bylevel',\n",
    "'param_subsample',\n",
    "'param_reg_lambda',\n",
    "'mean_test_score']].sort_values(by ='mean_test_score', ascending=False)[0:30]"
   ]
  },
  {
   "cell_type": "markdown",
   "metadata": {},
   "source": [
    "##### Hyperparameter Tuning with GridSerach"
   ]
  },
  {
   "cell_type": "code",
   "execution_count": null,
   "metadata": {},
   "outputs": [],
   "source": [
    "#X_train_down, y_train_down =resample(X_train, y_train_class, replace = False, n_samples=50000, random_state=42)\n",
    "\n",
    "from sklearn.model_selection import ShuffleSplit\n",
    "\n",
    "estimator = xgb.XGBClassifier(objective='multi:softprob', eval_metric='mlogloss')\n",
    "\n",
    "param_set = {\n",
    "    'n_estimators': [25,50,100,200,300,400,500,600,700],\n",
    "    #'eta': [0.1],\n",
    "    'max_depth': [2, 4, 8, 16],\n",
    "    #'reg_alpha': [0, 0.5, 1],\n",
    "    #'reg_lambda': [0, 0.5, 1],\n",
    "    #'colsample_bytree': [0.7],\n",
    "   # 'subsample': [0.7, 0.8]\n",
    "}\n",
    "\n",
    "scores = ['accuracy']\n",
    "\n",
    "\n",
    "xgb_grid = GridSearchCV(estimator=estimator, param_grid = param_set, refit='accuracy', cv=2, scoring=scores, return_train_score=False, verbose=2)\n",
    "\n",
    "## instead of cv: ShuffleSplit(test_size=0.20, n_splits=1, random_state=0)\n",
    "\n",
    "xgb_grid.fit(X_train.values, y_train_class.values)\n",
    "\n",
    "\n",
    "df_grid = pd.DataFrame(xgb_grid.cv_results_)\n",
    "\n",
    "df_grid.to_pickle(\"xgb_grid_2.pickle\")"
   ]
  },
  {
   "cell_type": "markdown",
   "metadata": {},
   "source": [
    "##### K-Fold Cross-Validation"
   ]
  },
  {
   "cell_type": "code",
   "execution_count": 32,
   "metadata": {},
   "outputs": [
    {
     "name": "stdout",
     "output_type": "stream",
     "text": [
      "------------------------------------------------------------------------\n",
      "Training for fold 1 ...\n",
      "------------------------------------------------------------------------\n",
      "Training for fold 2 ...\n",
      "------------------------------------------------------------------------\n",
      "Training for fold 3 ...\n",
      "------------------------------------------------------------------------\n",
      "Training for fold 4 ...\n",
      "------------------------------------------------------------------------\n",
      "Training for fold 5 ...\n",
      "------------------------------------------------------------------------\n",
      "Training for fold 6 ...\n",
      "------------------------------------------------------------------------\n",
      "Training for fold 7 ...\n",
      "------------------------------------------------------------------------\n",
      "Training for fold 8 ...\n",
      "------------------------------------------------------------------------\n",
      "Training for fold 9 ...\n",
      "------------------------------------------------------------------------\n",
      "Training for fold 10 ...\n",
      "Accuracy Score ---- mean:  0.8542354137947716 --- std:  0.0024501750928363087\n",
      "Cohen Kappa Score ---- mean:  0.778725030454868 --- std:  0.0034930404056229885\n"
     ]
    }
   ],
   "source": [
    "# K-fold Cross Validation model evaluation\n",
    "fold_no = 1\n",
    "\n",
    "# Initalize empty scores list\n",
    "scores = np.zeros(shape=(2,num_folds))\n",
    "\n",
    "for train, test in kfold.split(inputs, targets):\n",
    "    \n",
    "    print('------------------------------------------------------------------------')\n",
    "    print(f'Training for fold {fold_no} ...')\n",
    "\n",
    "    # Chosing Model\n",
    "    param_best = xgb_search.best_params_\n",
    "    model = xgb.XGBClassifier(eval_metric='mlogloss', **param_best)\n",
    "    model.fit(inputs[train], targets[train])\n",
    "\n",
    "    y_predict = model.predict(inputs[test])\n",
    "\n",
    "\n",
    "    # filling scores list with the chosen sco\n",
    "    scores[0,fold_no -1] = accuracy_score(targets[test], y_predict)\n",
    "    scores[1,fold_no -1] = metrics.cohen_kappa_score(targets[test], y_predict)\n",
    "    \n",
    "    # Increase fold number\n",
    "    fold_no = fold_no + 1\n",
    "    \n",
    "scores_xgb = scores\n",
    "\n",
    "print('Accuracy Score ---- mean: ',scores_xgb[0].mean(), '--- std: ',scores_xgb[0].std())\n",
    "print('Cohen Kappa Score ---- mean: ',scores_xgb[1].mean(), '--- std: ',scores_xgb[1].std())\n"
   ]
  },
  {
   "cell_type": "markdown",
   "metadata": {},
   "source": [
    "##### Feature Importance"
   ]
  },
  {
   "cell_type": "code",
   "execution_count": 49,
   "metadata": {},
   "outputs": [
    {
     "data": {
      "image/png": "[encoded data removed]",
      "text/plain": [
       "<Figure size 432x288 with 1 Axes>"
      ]
     },
     "metadata": {
      "needs_background": "light"
     },
     "output_type": "display_data"
    }
   ],
   "source": [
    "clf = xgb.XGBClassifier(eval_metric='mlogloss', **param_best)\n",
    "clf.fit(X_train.values, y_train_class)\n",
    "\n",
    "\n",
    "feat_importances = pd.Series(clf.feature_importances_, index=X_train.columns)\n",
    "\n",
    "feat_importances.sort_values(ascending=True).nlargest(15).plot(kind='barh', color = '#4472C4')\n",
    "plt.gca().invert_yaxis()\n",
    "#plt.title('Feature Importance for XGBoost')\n",
    "plt.ylabel('Features')\n",
    "plt.xlabel('Feature Importance')\n",
    "\n",
    "plt.savefig('../pictures/xgb_importance.png')\n",
    "\n",
    "plt.show()"
   ]
  },
  {
   "cell_type": "markdown",
   "metadata": {},
   "source": [
    "##### Confusion Matrix"
   ]
  },
  {
   "cell_type": "code",
   "execution_count": 47,
   "metadata": {},
   "outputs": [
    {
     "data": {
      "image/png": "[encoded data removed]",
      "text/plain": [
       "<Figure size 432x288 with 2 Axes>"
      ]
     },
     "metadata": {
      "needs_background": "light"
     },
     "output_type": "display_data"
    }
   ],
   "source": [
    "y_pred_c = clf.predict(X_test.values)\n",
    "\n",
    "cm = confusion_matrix(y_test_class, y_pred_c)\n",
    "disp = ConfusionMatrixDisplay(confusion_matrix=cm, display_labels=['Low','Medium','High'])\n",
    "disp.plot()\n",
    "plt.xticks(rotation=90)\n",
    "plt.tight_layout()\n",
    "plt.savefig('../pictures/xgb_Class_Confusion.png')\n",
    "plt.show()"
   ]
  },
  {
   "cell_type": "markdown",
   "metadata": {},
   "source": [
    "##### Without transactional features"
   ]
  },
  {
   "cell_type": "code",
   "execution_count": 29,
   "metadata": {},
   "outputs": [
    {
     "name": "stdout",
     "output_type": "stream",
     "text": [
      "------------------------------------------------------------------------\n",
      "Training for fold 1 ...\n"
     ]
    },
    {
     "ename": "NotFittedError",
     "evalue": "need to call fit or load_model beforehand",
     "output_type": "error",
     "traceback": [
      "\u001b[1;31m---------------------------------------------------------------------------\u001b[0m",
      "\u001b[1;31mNotFittedError\u001b[0m                            Traceback (most recent call last)",
      "\u001b[1;32m<ipython-input-29-a7164d2c39d5>\u001b[0m in \u001b[0;36m<module>\u001b[1;34m\u001b[0m\n\u001b[0;32m     14\u001b[0m     \u001b[0mmodel\u001b[0m \u001b[1;33m=\u001b[0m \u001b[0mxgb\u001b[0m\u001b[1;33m.\u001b[0m\u001b[0mXGBClassifier\u001b[0m\u001b[1;33m(\u001b[0m\u001b[0meval_metric\u001b[0m\u001b[1;33m=\u001b[0m\u001b[1;34m'mlogloss'\u001b[0m\u001b[1;33m,\u001b[0m \u001b[1;33m**\u001b[0m\u001b[0mparam_best\u001b[0m\u001b[1;33m)\u001b[0m\u001b[1;33m\u001b[0m\u001b[1;33m\u001b[0m\u001b[0m\n\u001b[0;32m     15\u001b[0m \u001b[1;33m\u001b[0m\u001b[0m\n\u001b[1;32m---> 16\u001b[1;33m     \u001b[0my_predict\u001b[0m \u001b[1;33m=\u001b[0m \u001b[0mmodel\u001b[0m\u001b[1;33m.\u001b[0m\u001b[0mpredict\u001b[0m\u001b[1;33m(\u001b[0m\u001b[0minputs_0\u001b[0m\u001b[1;33m[\u001b[0m\u001b[0mtest\u001b[0m\u001b[1;33m]\u001b[0m\u001b[1;33m)\u001b[0m\u001b[1;33m\u001b[0m\u001b[1;33m\u001b[0m\u001b[0m\n\u001b[0m\u001b[0;32m     17\u001b[0m     \u001b[0my_predict_clipped\u001b[0m \u001b[1;33m=\u001b[0m \u001b[0my_predict\u001b[0m\u001b[1;33m.\u001b[0m\u001b[0mclip\u001b[0m\u001b[1;33m(\u001b[0m\u001b[0mmin\u001b[0m\u001b[1;33m=\u001b[0m\u001b[1;36m0\u001b[0m\u001b[1;33m)\u001b[0m \u001b[1;31m# setting min value to zero  (requirement for log_error)\u001b[0m\u001b[1;33m\u001b[0m\u001b[1;33m\u001b[0m\u001b[0m\n\u001b[0;32m     18\u001b[0m \u001b[1;33m\u001b[0m\u001b[0m\n",
      "\u001b[1;32m~\\anaconda3\\lib\\site-packages\\xgboost\\sklearn.py\u001b[0m in \u001b[0;36mpredict\u001b[1;34m(self, X, output_margin, ntree_limit, validate_features, base_margin, iteration_range)\u001b[0m\n\u001b[0;32m   1282\u001b[0m         \u001b[0miteration_range\u001b[0m\u001b[1;33m:\u001b[0m \u001b[0mOptional\u001b[0m\u001b[1;33m[\u001b[0m\u001b[0mTuple\u001b[0m\u001b[1;33m[\u001b[0m\u001b[0mint\u001b[0m\u001b[1;33m,\u001b[0m \u001b[0mint\u001b[0m\u001b[1;33m]\u001b[0m\u001b[1;33m]\u001b[0m \u001b[1;33m=\u001b[0m \u001b[1;32mNone\u001b[0m\u001b[1;33m,\u001b[0m\u001b[1;33m\u001b[0m\u001b[1;33m\u001b[0m\u001b[0m\n\u001b[0;32m   1283\u001b[0m     ) -> np.ndarray:\n\u001b[1;32m-> 1284\u001b[1;33m         class_probs = super().predict(\n\u001b[0m\u001b[0;32m   1285\u001b[0m             \u001b[0mX\u001b[0m\u001b[1;33m=\u001b[0m\u001b[0mX\u001b[0m\u001b[1;33m,\u001b[0m\u001b[1;33m\u001b[0m\u001b[1;33m\u001b[0m\u001b[0m\n\u001b[0;32m   1286\u001b[0m             \u001b[0moutput_margin\u001b[0m\u001b[1;33m=\u001b[0m\u001b[0moutput_margin\u001b[0m\u001b[1;33m,\u001b[0m\u001b[1;33m\u001b[0m\u001b[1;33m\u001b[0m\u001b[0m\n",
      "\u001b[1;32m~\\anaconda3\\lib\\site-packages\\xgboost\\sklearn.py\u001b[0m in \u001b[0;36mpredict\u001b[1;34m(self, X, output_margin, ntree_limit, validate_features, base_margin, iteration_range)\u001b[0m\n\u001b[0;32m    874\u001b[0m         \"\"\"\n\u001b[0;32m    875\u001b[0m         iteration_range = _convert_ntree_limit(\n\u001b[1;32m--> 876\u001b[1;33m             \u001b[0mself\u001b[0m\u001b[1;33m.\u001b[0m\u001b[0mget_booster\u001b[0m\u001b[1;33m(\u001b[0m\u001b[1;33m)\u001b[0m\u001b[1;33m,\u001b[0m \u001b[0mntree_limit\u001b[0m\u001b[1;33m,\u001b[0m \u001b[0miteration_range\u001b[0m\u001b[1;33m\u001b[0m\u001b[1;33m\u001b[0m\u001b[0m\n\u001b[0m\u001b[0;32m    877\u001b[0m         )\n\u001b[0;32m    878\u001b[0m         \u001b[0miteration_range\u001b[0m \u001b[1;33m=\u001b[0m \u001b[0mself\u001b[0m\u001b[1;33m.\u001b[0m\u001b[0m_get_iteration_range\u001b[0m\u001b[1;33m(\u001b[0m\u001b[0miteration_range\u001b[0m\u001b[1;33m)\u001b[0m\u001b[1;33m\u001b[0m\u001b[1;33m\u001b[0m\u001b[0m\n",
      "\u001b[1;32m~\\anaconda3\\lib\\site-packages\\xgboost\\sklearn.py\u001b[0m in \u001b[0;36mget_booster\u001b[1;34m(self)\u001b[0m\n\u001b[0;32m    457\u001b[0m         \u001b[1;32mif\u001b[0m \u001b[1;32mnot\u001b[0m \u001b[0mself\u001b[0m\u001b[1;33m.\u001b[0m\u001b[0m__sklearn_is_fitted__\u001b[0m\u001b[1;33m(\u001b[0m\u001b[1;33m)\u001b[0m\u001b[1;33m:\u001b[0m\u001b[1;33m\u001b[0m\u001b[1;33m\u001b[0m\u001b[0m\n\u001b[0;32m    458\u001b[0m             \u001b[1;32mfrom\u001b[0m \u001b[0msklearn\u001b[0m\u001b[1;33m.\u001b[0m\u001b[0mexceptions\u001b[0m \u001b[1;32mimport\u001b[0m \u001b[0mNotFittedError\u001b[0m\u001b[1;33m\u001b[0m\u001b[1;33m\u001b[0m\u001b[0m\n\u001b[1;32m--> 459\u001b[1;33m             \u001b[1;32mraise\u001b[0m \u001b[0mNotFittedError\u001b[0m\u001b[1;33m(\u001b[0m\u001b[1;34m'need to call fit or load_model beforehand'\u001b[0m\u001b[1;33m)\u001b[0m\u001b[1;33m\u001b[0m\u001b[1;33m\u001b[0m\u001b[0m\n\u001b[0m\u001b[0;32m    460\u001b[0m         \u001b[1;32mreturn\u001b[0m \u001b[0mself\u001b[0m\u001b[1;33m.\u001b[0m\u001b[0m_Booster\u001b[0m\u001b[1;33m\u001b[0m\u001b[1;33m\u001b[0m\u001b[0m\n\u001b[0;32m    461\u001b[0m \u001b[1;33m\u001b[0m\u001b[0m\n",
      "\u001b[1;31mNotFittedError\u001b[0m: need to call fit or load_model beforehand"
     ]
    }
   ],
   "source": [
    "# K-fold Cross Validation model evaluation\n",
    "fold_no = 1\n",
    "\n",
    "# Initalize empty scores list\n",
    "scores = np.zeros(shape=(2,num_folds))\n",
    "\n",
    "for train, test in kfold.split(inputs_0, targets):\n",
    "    \n",
    "    print('------------------------------------------------------------------------')\n",
    "    print(f'Training for fold {fold_no} ...')\n",
    "\n",
    "    # Chosing Model\n",
    "    param_best = xgb_search.best_params_\n",
    "    model = xgb.XGBClassifier(eval_metric='mlogloss', **param_best)\n",
    "\n",
    "    y_predict = model.predict(inputs_0[test])\n",
    "    y_predict_clipped = y_predict.clip(min=0) # setting min value to zero  (requirement for log_error)\n",
    "\n",
    "    # filling scores list with the chosen sco\n",
    "    scores[0,fold_no -1] = accuracy_score(targets[test], y_predict)\n",
    "    scores[1,fold_no -1] = metrics.cohen_kappa_score(targets[test], y_predict)\n",
    "    \n",
    "    # Increase fold number\n",
    "    fold_no = fold_no + 1\n",
    "    \n",
    "scores_gb = scores\n",
    "print('--------------WITHOUT TRANSACTIONAL FEATURES-----------')\n",
    "print('Accuracy Score ---- mean: ',scores_gb[0].mean(), '--- std: ',scores_gb[0].std())\n",
    "print('Cohen Kappa Score ---- mean: ',scores_gb[1].mean(), '--- std: ',scores_gb[1].std())"
   ]
  },
  {
   "cell_type": "code",
   "execution_count": null,
   "metadata": {},
   "outputs": [],
   "source": []
  },
  {
   "cell_type": "markdown",
   "metadata": {},
   "source": [
    "### Comparing Algorithms in plot"
   ]
  },
  {
   "cell_type": "code",
   "execution_count": 39,
   "metadata": {},
   "outputs": [
    {
     "data": {
      "image/png": "[encoded data removed]",
      "text/plain": [
       "<Figure size 1440x576 with 1 Axes>"
      ]
     },
     "metadata": {
      "needs_background": "light"
     },
     "output_type": "display_data"
    }
   ],
   "source": [
    "plt.figure(figsize=(20, 8))\n",
    "#Create the plots\n",
    "\n",
    "\n",
    "plt.plot(range(1,len(scores_ada[0])+1),scores_ada[0], color='#4472C4', label = 'AdaBoost')\n",
    "plt.plot(range(1,len(scores_gb[0])+1),scores_gb[0], color='#ED7D31', label = 'Gradient Boosting')\n",
    "plt.plot(range(1,len(scores_xgb[0])+1),scores_xgb[0], color='#70AD47', label = 'XGBoost')\n",
    "\n",
    "#plt.plot(range(1,len(scores)+1),sparse_categorical_crossentropy, color='blue', label = 'sparse_categorical_crossentropy')\n",
    "#Create the title, axis description and legend\n",
    "#plt.title('Accuracy Results KFOLD Cross-Validation')\n",
    "plt.ylabel('Accuracy')\n",
    "plt.xlabel(\"KFolds\")\n",
    "plt.legend(loc=7, bbox_to_anchor=(1,0.75))\n",
    "#plt.grid()\n",
    "plt.xticks(range(1,len(scores_ada[0])+1),rotation = 0)\n",
    "plt.rcParams.update({'font.size': 12})\n",
    "plt.savefig('../pictures/accuracy_boosting.png')\n"
   ]
  },
  {
   "cell_type": "code",
   "execution_count": 35,
   "metadata": {},
   "outputs": [
    {
     "data": {
      "text/plain": [
       "array([[0.66015457, 0.71003292, 0.68019178, 0.66022613, 0.67511092,\n",
       "        0.7121082 , 0.68906541, 0.68842135, 0.68691856, 0.68346096],\n",
       "       [0.48540783, 0.56376642, 0.51481546, 0.48492046, 0.50631322,\n",
       "        0.56591588, 0.53251835, 0.5288877 , 0.52812555, 0.52280298]])"
      ]
     },
     "execution_count": 35,
     "metadata": {},
     "output_type": "execute_result"
    }
   ],
   "source": [
    "scores_ada"
   ]
  }
 ],
 "metadata": {
  "interpreter": {
   "hash": "06e87fc6394d8873b4ceac6ff7bcf39ba204d0a8f1170052b0425aec2106e483"
  },
  "kernelspec": {
   "display_name": "Python 3.8.5 64-bit ('base': conda)",
   "language": "python",
   "name": "python3"
  },
  "language_info": {
   "codemirror_mode": {
    "name": "ipython",
    "version": 3
   },
   "file_extension": ".py",
   "mimetype": "text/x-python",
   "name": "python",
   "nbconvert_exporter": "python",
   "pygments_lexer": "ipython3",
   "version": "3.8.5"
  },
  "orig_nbformat": 4
 },
 "nbformat": 4,
 "nbformat_minor": 2
}
