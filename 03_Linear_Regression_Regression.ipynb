{
 "cells": [
  {
   "cell_type": "code",
   "execution_count": 2,
   "id": "36318932",
   "metadata": {},
   "outputs": [],
   "source": [
    "# importing required libraries\n",
    "import pandas as pd\n",
    "import numpy as np\n",
    "import matplotlib.pyplot as plt\n",
    "import seaborn as sns\n",
    "import os\n",
    "from IPython.display import display\n",
    "import warnings\n",
    "from contextlib import contextmanager\n",
    "import joblib\n",
    "\n",
    "\n",
    "from sklearn.model_selection import KFold\n",
    "from sklearn.model_selection import cross_val_score\n",
    "from sklearn.model_selection import cross_validate\n",
    "\n",
    "\n",
    "from sklearn.linear_model import LinearRegression\n",
    "from sklearn.linear_model import LogisticRegression\n",
    "from sklearn.model_selection import KFold\n",
    "from sklearn.model_selection import cross_val_score\n",
    "from sklearn.metrics import make_scorer\n",
    "from sklearn import metrics\n",
    "from sklearn.metrics import classification_report, confusion_matrix\n",
    "from sklearn.metrics import ConfusionMatrixDisplay\n",
    "from sklearn.metrics import cohen_kappa_score\n",
    "from sklearn.metrics import mean_squared_error, mean_absolute_error, mean_absolute_percentage_error, mean_squared_log_error\n",
    "\n",
    "# library options\n",
    "%matplotlib inline\n",
    "pd.options.display.max_columns = None\n",
    "warnings.filterwarnings('ignore')"
   ]
  },
  {
   "cell_type": "markdown",
   "id": "d7386a29",
   "metadata": {},
   "source": [
    "# Regression"
   ]
  },
  {
   "cell_type": "markdown",
   "id": "ab270f7f",
   "metadata": {},
   "source": [
    "## Read in the Train and Test data"
   ]
  },
  {
   "cell_type": "code",
   "execution_count": 3,
   "id": "4d75eaee",
   "metadata": {},
   "outputs": [],
   "source": [
    "X_train = np.array(pd.read_parquet(r'C:\\Users\\lb199\\rwth-aachen.de\\Kai Blumberg - Advanced Topics in Marketing Analytics\\data\\final\\X_train.parquet')).astype('float')\n",
    "X_test = np.array(pd.read_parquet(r'C:\\Users\\lb199\\rwth-aachen.de\\Kai Blumberg - Advanced Topics in Marketing Analytics\\data\\final\\X_test.parquet')).astype('float')  \n",
    "\n",
    "y_test_reg = np.array(pd.read_parquet(r'C:\\Users\\lb199\\rwth-aachen.de\\Kai Blumberg - Advanced Topics in Marketing Analytics\\data\\final\\y_test.parquet')['sum_payments_package_key_ltv']).astype('float')\n",
    "y_train_reg = np.array(pd.read_parquet(r'C:\\Users\\lb199\\rwth-aachen.de\\Kai Blumberg - Advanced Topics in Marketing Analytics\\data\\final\\y_train.parquet')['sum_payments_package_key_ltv']).astype('float')"
   ]
  },
  {
   "cell_type": "markdown",
   "id": "dbcedb07",
   "metadata": {},
   "source": [
    "## Train the Model"
   ]
  },
  {
   "cell_type": "code",
   "execution_count": 4,
   "id": "07f029a5",
   "metadata": {},
   "outputs": [
    {
     "data": {
      "text/plain": [
       "LinearRegression()"
      ]
     },
     "execution_count": 4,
     "metadata": {},
     "output_type": "execute_result"
    }
   ],
   "source": [
    "regressor = LinearRegression()  \n",
    "\n",
    "# Train the model on training data\n",
    "regressor.fit(X_train, y_train_reg) "
   ]
  },
  {
   "cell_type": "code",
   "execution_count": 5,
   "id": "dc29d34b",
   "metadata": {},
   "outputs": [],
   "source": [
    "y_pred_r = regressor.predict(X_test)"
   ]
  },
  {
   "cell_type": "code",
   "execution_count": 7,
   "id": "ae74d8bc",
   "metadata": {},
   "outputs": [],
   "source": [
    "# Limit predicted values to min=0\n",
    "y_pred_r=np.clip(y_pred_r, a_min=0,a_max=None)"
   ]
  },
  {
   "cell_type": "code",
   "execution_count": 8,
   "id": "6216c3b5",
   "metadata": {},
   "outputs": [
    {
     "data": {
      "text/html": [
       "<div>\n",
       "<style scoped>\n",
       "    .dataframe tbody tr th:only-of-type {\n",
       "        vertical-align: middle;\n",
       "    }\n",
       "\n",
       "    .dataframe tbody tr th {\n",
       "        vertical-align: top;\n",
       "    }\n",
       "\n",
       "    .dataframe thead th {\n",
       "        text-align: right;\n",
       "    }\n",
       "</style>\n",
       "<table border=\"1\" class=\"dataframe\">\n",
       "  <thead>\n",
       "    <tr style=\"text-align: right;\">\n",
       "      <th></th>\n",
       "      <th>Actual</th>\n",
       "      <th>Predicted</th>\n",
       "    </tr>\n",
       "  </thead>\n",
       "  <tbody>\n",
       "    <tr>\n",
       "      <th>0</th>\n",
       "      <td>29.95</td>\n",
       "      <td>29.122879</td>\n",
       "    </tr>\n",
       "    <tr>\n",
       "      <th>1</th>\n",
       "      <td>0.99</td>\n",
       "      <td>0.000000</td>\n",
       "    </tr>\n",
       "    <tr>\n",
       "      <th>2</th>\n",
       "      <td>7.94</td>\n",
       "      <td>14.409470</td>\n",
       "    </tr>\n",
       "    <tr>\n",
       "      <th>3</th>\n",
       "      <td>2.99</td>\n",
       "      <td>0.559067</td>\n",
       "    </tr>\n",
       "    <tr>\n",
       "      <th>4</th>\n",
       "      <td>164.00</td>\n",
       "      <td>100.356369</td>\n",
       "    </tr>\n",
       "    <tr>\n",
       "      <th>...</th>\n",
       "      <td>...</td>\n",
       "      <td>...</td>\n",
       "    </tr>\n",
       "    <tr>\n",
       "      <th>27943</th>\n",
       "      <td>1.98</td>\n",
       "      <td>3.569717</td>\n",
       "    </tr>\n",
       "    <tr>\n",
       "      <th>27944</th>\n",
       "      <td>65.87</td>\n",
       "      <td>94.608978</td>\n",
       "    </tr>\n",
       "    <tr>\n",
       "      <th>27945</th>\n",
       "      <td>0.99</td>\n",
       "      <td>8.002441</td>\n",
       "    </tr>\n",
       "    <tr>\n",
       "      <th>27946</th>\n",
       "      <td>49.95</td>\n",
       "      <td>67.352997</td>\n",
       "    </tr>\n",
       "    <tr>\n",
       "      <th>27947</th>\n",
       "      <td>5.98</td>\n",
       "      <td>10.730118</td>\n",
       "    </tr>\n",
       "  </tbody>\n",
       "</table>\n",
       "<p>27948 rows × 2 columns</p>\n",
       "</div>"
      ],
      "text/plain": [
       "       Actual   Predicted\n",
       "0       29.95   29.122879\n",
       "1        0.99    0.000000\n",
       "2        7.94   14.409470\n",
       "3        2.99    0.559067\n",
       "4      164.00  100.356369\n",
       "...       ...         ...\n",
       "27943    1.98    3.569717\n",
       "27944   65.87   94.608978\n",
       "27945    0.99    8.002441\n",
       "27946   49.95   67.352997\n",
       "27947    5.98   10.730118\n",
       "\n",
       "[27948 rows x 2 columns]"
      ]
     },
     "execution_count": 8,
     "metadata": {},
     "output_type": "execute_result"
    }
   ],
   "source": [
    "# Show the Actual and Predicted y\n",
    "df = pd.DataFrame({'Actual': y_test_reg.flatten(), 'Predicted': y_pred_r.flatten()})\n",
    "df"
   ]
  },
  {
   "cell_type": "code",
   "execution_count": 9,
   "id": "6233a987",
   "metadata": {},
   "outputs": [
    {
     "name": "stdout",
     "output_type": "stream",
     "text": [
      "MAE:  15.787350691930065\n",
      "MSE:  777.1261716908176\n",
      "RMSE:  27.876982829761502\n",
      "R2:  0.5536433447914737\n",
      "MSLE:  0.904720468974807\n"
     ]
    }
   ],
   "source": [
    "# Model Accuracy\n",
    "print(\"MAE: \", metrics.mean_absolute_error(y_test_reg, y_pred_r))\n",
    "print(\"MSE: \", metrics.mean_squared_error(y_test_reg, y_pred_r, squared=True))\n",
    "print(\"RMSE: \", metrics.mean_squared_error(y_test_reg, y_pred_r, squared=False))\n",
    "print(\"R2: \", metrics.r2_score(y_test_reg, y_pred_r))\n",
    "print(\"MSLE: \", metrics.mean_squared_log_error(y_test_reg, y_pred_r))"
   ]
  },
  {
   "cell_type": "markdown",
   "id": "cc5d3ba8",
   "metadata": {},
   "source": [
    "## 10-fold Cross-validation"
   ]
  },
  {
   "cell_type": "code",
   "execution_count": 10,
   "id": "09b77dfb",
   "metadata": {},
   "outputs": [
    {
     "name": "stdout",
     "output_type": "stream",
     "text": [
      "MSE:\n",
      "[756.15736035 763.95929941 749.65064654 735.53136172 806.54080919\n",
      " 770.92769669 780.20117062 782.52213731 788.26513301 771.547363  ]\n",
      "The mean is 770.5302977828229 with a standard deviation of 19.39187553592091\n"
     ]
    }
   ],
   "source": [
    "inputs = np.concatenate((X_train, X_test), axis=0)\n",
    "targets = np.concatenate((y_train_reg, y_test_reg), axis=0)\n",
    "\n",
    "score = cross_val_score(estimator=regressor, X=inputs, y=targets, cv=10, scoring=metrics.make_scorer(metrics.mean_squared_error))\n",
    "print(\"MSE:\")\n",
    "print(score)\n",
    "print(\"The mean is \" + str(score.mean()) + \" with a standard deviation of \" + str(score.std()))"
   ]
  },
  {
   "cell_type": "code",
   "execution_count": 11,
   "id": "dae9d8d0",
   "metadata": {},
   "outputs": [
    {
     "name": "stdout",
     "output_type": "stream",
     "text": [
      "MAE:\n",
      "[15.96502936 16.144839   15.97042495 15.85751105 16.41176321 16.00783886\n",
      " 16.22219991 16.30708196 16.12466591 16.05916529]\n",
      "The mean is 16.107051950971616 with a standard deviation of 0.1615866641097618\n"
     ]
    }
   ],
   "source": [
    "score = cross_val_score(estimator=regressor, X=inputs, y=targets, cv=10, scoring=metrics.make_scorer(metrics.mean_absolute_error))\n",
    "print(\"MAE:\")\n",
    "print(score)\n",
    "print(\"The mean is \" + str(score.mean()) + \" with a standard deviation of \" + str(score.std()))"
   ]
  },
  {
   "cell_type": "code",
   "execution_count": 12,
   "id": "997dedad",
   "metadata": {},
   "outputs": [
    {
     "name": "stdout",
     "output_type": "stream",
     "text": [
      "MAPE:\n",
      "[1.93768079 1.91371458 1.93691352 1.89160578 1.88797274 1.93799428\n",
      " 1.94898319 1.96116962 1.90241226 1.91208   ]\n",
      "The mean is 1.9230526770363099 with a standard deviation of 0.0236807612470667\n"
     ]
    }
   ],
   "source": [
    "score = cross_val_score(estimator=regressor, X=inputs, y=targets, cv=10, scoring=metrics.make_scorer(metrics.mean_absolute_percentage_error))\n",
    "print(\"MAPE:\")\n",
    "print(score)\n",
    "print(\"The mean is \" + str(score.mean()) + \" with a standard deviation of \" + str(score.std()))"
   ]
  },
  {
   "cell_type": "markdown",
   "id": "8f8a29fb",
   "metadata": {},
   "source": [
    "# Regression without the transactional Data"
   ]
  },
  {
   "cell_type": "markdown",
   "id": "778c5fb8",
   "metadata": {},
   "source": [
    "## Read in the Train and Test data"
   ]
  },
  {
   "cell_type": "code",
   "execution_count": 13,
   "id": "c214c307",
   "metadata": {},
   "outputs": [],
   "source": [
    "X_train = np.array(pd.read_parquet(r'C:\\Users\\lb199\\rwth-aachen.de\\Kai Blumberg - Advanced Topics in Marketing Analytics\\data\\final\\X_train.parquet').drop(['sum_day_1','sum_day_2','sum_day_3','gradient','clumpiness'], axis=1)).astype('float')\n",
    "X_test = np.array(pd.read_parquet(r'C:\\Users\\lb199\\rwth-aachen.de\\Kai Blumberg - Advanced Topics in Marketing Analytics\\data\\final\\X_test.parquet').drop(['sum_day_1','sum_day_2','sum_day_3','gradient','clumpiness'], axis=1)).astype('float')  \n",
    "\n",
    "y_test_reg = np.array(pd.read_parquet(r'C:\\Users\\lb199\\rwth-aachen.de\\Kai Blumberg - Advanced Topics in Marketing Analytics\\data\\final\\y_test.parquet')['sum_payments_package_key_ltv']).astype('float')\n",
    "y_train_reg = np.array(pd.read_parquet(r'C:\\Users\\lb199\\rwth-aachen.de\\Kai Blumberg - Advanced Topics in Marketing Analytics\\data\\final\\y_train.parquet')['sum_payments_package_key_ltv']).astype('float')"
   ]
  },
  {
   "cell_type": "markdown",
   "id": "2c323176",
   "metadata": {},
   "source": [
    "## Train the Model "
   ]
  },
  {
   "cell_type": "code",
   "execution_count": 14,
   "id": "d890d423",
   "metadata": {},
   "outputs": [
    {
     "data": {
      "text/plain": [
       "LinearRegression()"
      ]
     },
     "execution_count": 14,
     "metadata": {},
     "output_type": "execute_result"
    }
   ],
   "source": [
    "regressor = LinearRegression()  \n",
    "\n",
    "# Train the model on training data\n",
    "regressor.fit(X_train, y_train_reg) "
   ]
  },
  {
   "cell_type": "code",
   "execution_count": 15,
   "id": "2a9e0e10",
   "metadata": {},
   "outputs": [],
   "source": [
    "y_pred_r = regressor.predict(X_test)"
   ]
  },
  {
   "cell_type": "code",
   "execution_count": 16,
   "id": "e85cf7bd",
   "metadata": {},
   "outputs": [],
   "source": [
    "# Limit predicted values to min=0\n",
    "y_pred_r=np.clip(y_pred_r, a_min=0,a_max=None)"
   ]
  },
  {
   "cell_type": "code",
   "execution_count": 17,
   "id": "d69d085b",
   "metadata": {},
   "outputs": [
    {
     "data": {
      "text/html": [
       "<div>\n",
       "<style scoped>\n",
       "    .dataframe tbody tr th:only-of-type {\n",
       "        vertical-align: middle;\n",
       "    }\n",
       "\n",
       "    .dataframe tbody tr th {\n",
       "        vertical-align: top;\n",
       "    }\n",
       "\n",
       "    .dataframe thead th {\n",
       "        text-align: right;\n",
       "    }\n",
       "</style>\n",
       "<table border=\"1\" class=\"dataframe\">\n",
       "  <thead>\n",
       "    <tr style=\"text-align: right;\">\n",
       "      <th></th>\n",
       "      <th>Actual</th>\n",
       "      <th>Predicted</th>\n",
       "    </tr>\n",
       "  </thead>\n",
       "  <tbody>\n",
       "    <tr>\n",
       "      <th>0</th>\n",
       "      <td>29.95</td>\n",
       "      <td>28.609375</td>\n",
       "    </tr>\n",
       "    <tr>\n",
       "      <th>1</th>\n",
       "      <td>0.99</td>\n",
       "      <td>0.000000</td>\n",
       "    </tr>\n",
       "    <tr>\n",
       "      <th>2</th>\n",
       "      <td>7.94</td>\n",
       "      <td>14.250000</td>\n",
       "    </tr>\n",
       "    <tr>\n",
       "      <th>3</th>\n",
       "      <td>2.99</td>\n",
       "      <td>2.199219</td>\n",
       "    </tr>\n",
       "    <tr>\n",
       "      <th>4</th>\n",
       "      <td>164.00</td>\n",
       "      <td>104.445312</td>\n",
       "    </tr>\n",
       "    <tr>\n",
       "      <th>...</th>\n",
       "      <td>...</td>\n",
       "      <td>...</td>\n",
       "    </tr>\n",
       "    <tr>\n",
       "      <th>27943</th>\n",
       "      <td>1.98</td>\n",
       "      <td>4.226562</td>\n",
       "    </tr>\n",
       "    <tr>\n",
       "      <th>27944</th>\n",
       "      <td>65.87</td>\n",
       "      <td>95.296875</td>\n",
       "    </tr>\n",
       "    <tr>\n",
       "      <th>27945</th>\n",
       "      <td>0.99</td>\n",
       "      <td>6.035156</td>\n",
       "    </tr>\n",
       "    <tr>\n",
       "      <th>27946</th>\n",
       "      <td>49.95</td>\n",
       "      <td>71.753906</td>\n",
       "    </tr>\n",
       "    <tr>\n",
       "      <th>27947</th>\n",
       "      <td>5.98</td>\n",
       "      <td>9.757812</td>\n",
       "    </tr>\n",
       "  </tbody>\n",
       "</table>\n",
       "<p>27948 rows × 2 columns</p>\n",
       "</div>"
      ],
      "text/plain": [
       "       Actual   Predicted\n",
       "0       29.95   28.609375\n",
       "1        0.99    0.000000\n",
       "2        7.94   14.250000\n",
       "3        2.99    2.199219\n",
       "4      164.00  104.445312\n",
       "...       ...         ...\n",
       "27943    1.98    4.226562\n",
       "27944   65.87   95.296875\n",
       "27945    0.99    6.035156\n",
       "27946   49.95   71.753906\n",
       "27947    5.98    9.757812\n",
       "\n",
       "[27948 rows x 2 columns]"
      ]
     },
     "execution_count": 17,
     "metadata": {},
     "output_type": "execute_result"
    }
   ],
   "source": [
    "# Show the Actual and Predicted y\n",
    "df = pd.DataFrame({'Actual': y_test_reg.flatten(), 'Predicted': y_pred_r.flatten()})\n",
    "df"
   ]
  },
  {
   "cell_type": "code",
   "execution_count": 18,
   "id": "93110225",
   "metadata": {},
   "outputs": [
    {
     "name": "stdout",
     "output_type": "stream",
     "text": [
      "MAE:  16.01101219787641\n",
      "MSE:  791.3349259535627\n",
      "RMSE:  28.130675888672897\n",
      "R2:  0.5454822864480133\n",
      "MSLE:  0.9127165016061188\n"
     ]
    }
   ],
   "source": [
    "# Model Accuracy\n",
    "print(\"MAE: \", metrics.mean_absolute_error(y_test_reg, y_pred_r))\n",
    "print(\"MSE: \", metrics.mean_squared_error(y_test_reg, y_pred_r, squared=True))\n",
    "print(\"RMSE: \", metrics.mean_squared_error(y_test_reg, y_pred_r, squared=False))\n",
    "print(\"R2: \", metrics.r2_score(y_test_reg, y_pred_r))\n",
    "print(\"MSLE: \", metrics.mean_squared_log_error(y_test_reg, y_pred_r))"
   ]
  },
  {
   "cell_type": "markdown",
   "id": "c6761af7",
   "metadata": {},
   "source": [
    "## 10-fold Cross-validation"
   ]
  },
  {
   "cell_type": "code",
   "execution_count": 19,
   "id": "93cf57b7",
   "metadata": {},
   "outputs": [
    {
     "name": "stdout",
     "output_type": "stream",
     "text": [
      "MSE:\n",
      "[758.57105129 774.87192844 765.03574028 746.34779136 812.77413889\n",
      " 787.79886781 794.50596385 796.48496047 803.15110456 785.81243348]\n",
      "The mean is 782.5353980447601 with a standard deviation of 19.911092880157593\n"
     ]
    }
   ],
   "source": [
    "inputs = np.concatenate((X_train, X_test), axis=0)\n",
    "targets = np.concatenate((y_train_reg, y_test_reg), axis=0)\n",
    "\n",
    "score = cross_val_score(estimator=regressor, X=inputs, y=targets, cv=10, scoring=metrics.make_scorer(metrics.mean_squared_error))\n",
    "print(\"MSE:\")\n",
    "print(score)\n",
    "print(\"The mean is \" + str(score.mean()) + \" with a standard deviation of \" + str(score.std()))"
   ]
  },
  {
   "cell_type": "code",
   "execution_count": 20,
   "id": "a9d67f08",
   "metadata": {},
   "outputs": [
    {
     "name": "stdout",
     "output_type": "stream",
     "text": [
      "MAE:\n",
      "[16.20271664 16.38109706 16.22461281 16.11966316 16.69130513 16.27306268\n",
      " 16.47894624 16.55080179 16.36378873 16.3149791 ]\n",
      "The mean is 16.360097334602706 with a standard deviation of 0.16467862356029347\n"
     ]
    }
   ],
   "source": [
    "score = cross_val_score(estimator=regressor, X=inputs, y=targets, cv=10, scoring=metrics.make_scorer(metrics.mean_absolute_error))\n",
    "print(\"MAE:\")\n",
    "print(score)\n",
    "print(\"The mean is \" + str(score.mean()) + \" with a standard deviation of \" + str(score.std()))"
   ]
  },
  {
   "cell_type": "code",
   "execution_count": 21,
   "id": "f3585e70",
   "metadata": {},
   "outputs": [
    {
     "name": "stdout",
     "output_type": "stream",
     "text": [
      "MAPE:\n",
      "[1.93243501 1.90432842 1.93767933 1.89286771 1.88302634 1.92854942\n",
      " 1.94915174 1.95205274 1.8876703  1.91323407]\n",
      "The mean is 1.9180995091259323 with a standard deviation of 0.02412708501953769\n"
     ]
    }
   ],
   "source": [
    "score = cross_val_score(estimator=regressor, X=inputs, y=targets, cv=10, scoring=metrics.make_scorer(metrics.mean_absolute_percentage_error))\n",
    "print(\"MAPE:\")\n",
    "print(score)\n",
    "print(\"The mean is \" + str(score.mean()) + \" with a standard deviation of \" + str(score.std()))"
   ]
  }
 ],
 "metadata": {
  "kernelspec": {
   "display_name": "Python 3",
   "language": "python",
   "name": "python3"
  },
  "language_info": {
   "codemirror_mode": {
    "name": "ipython",
    "version": 3
   },
   "file_extension": ".py",
   "mimetype": "text/x-python",
   "name": "python",
   "nbconvert_exporter": "python",
   "pygments_lexer": "ipython3",
   "version": "3.8.8"
  }
 },
 "nbformat": 4,
 "nbformat_minor": 5
}
