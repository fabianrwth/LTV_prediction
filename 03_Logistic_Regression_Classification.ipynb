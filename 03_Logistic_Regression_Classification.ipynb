{
 "cells": [
  {
   "cell_type": "code",
   "execution_count": 2,
   "id": "2aef6b10",
   "metadata": {},
   "outputs": [],
   "source": [
    "# importing required libraries\n",
    "import pandas as pd\n",
    "import numpy as np\n",
    "import matplotlib.pyplot as plt\n",
    "import seaborn as sns\n",
    "import os\n",
    "from IPython.display import display\n",
    "import warnings\n",
    "from contextlib import contextmanager\n",
    "import joblib\n",
    "\n",
    "\n",
    "from sklearn import metrics\n",
    "from sklearn.linear_model import LogisticRegression\n",
    "from sklearn.model_selection import KFold\n",
    "from sklearn.model_selection import cross_val_score\n",
    "from sklearn.metrics import make_scorer\n",
    "from sklearn import metrics\n",
    "from sklearn.metrics import classification_report, confusion_matrix\n",
    "from sklearn.metrics import ConfusionMatrixDisplay\n",
    "from sklearn.metrics import mean_squared_log_error\n",
    "from sklearn.metrics import cohen_kappa_score\n",
    "\n",
    "# library options\n",
    "%matplotlib inline\n",
    "pd.options.display.max_columns = None\n",
    "warnings.filterwarnings('ignore')"
   ]
  },
  {
   "cell_type": "markdown",
   "id": "224d53ae",
   "metadata": {},
   "source": [
    "# Classification with the transactional Data"
   ]
  },
  {
   "cell_type": "markdown",
   "id": "9c97f164",
   "metadata": {},
   "source": [
    "## Read in the Train and Test data"
   ]
  },
  {
   "cell_type": "code",
   "execution_count": 3,
   "id": "83682c48",
   "metadata": {},
   "outputs": [],
   "source": [
    "X_train = np.array(pd.read_parquet(r'C:\\Users\\lb199\\rwth-aachen.de\\Kai Blumberg - Advanced Topics in Marketing Analytics\\data\\final\\X_train.parquet')).astype('float')\n",
    "X_test = np.array(pd.read_parquet(r'C:\\Users\\lb199\\rwth-aachen.de\\Kai Blumberg - Advanced Topics in Marketing Analytics\\data\\final\\X_test.parquet')).astype('float')\n",
    "\n",
    "y_test_class = np.array(pd.read_parquet(r'C:\\Users\\lb199\\rwth-aachen.de\\Kai Blumberg - Advanced Topics in Marketing Analytics\\data\\final\\y_test.parquet')['sum_payments_package_key_ltv_class'])\n",
    "y_train_class = np.array(pd.read_parquet(r'C:\\Users\\lb199\\rwth-aachen.de\\Kai Blumberg - Advanced Topics in Marketing Analytics\\data\\final\\y_train.parquet')['sum_payments_package_key_ltv_class'])                        \n",
    "\n",
    "n_class = 3\n",
    "\n",
    "# cross validation variable\n",
    "cross_validation = True"
   ]
  },
  {
   "cell_type": "markdown",
   "id": "f8a92dd9",
   "metadata": {},
   "source": [
    "## Train the Model"
   ]
  },
  {
   "cell_type": "code",
   "execution_count": 4,
   "id": "5cff3c78",
   "metadata": {},
   "outputs": [
    {
     "data": {
      "text/plain": [
       "LogisticRegression(random_state=42)"
      ]
     },
     "execution_count": 4,
     "metadata": {},
     "output_type": "execute_result"
    }
   ],
   "source": [
    "logreg = LogisticRegression(random_state = 42)\n",
    "\n",
    "# Train the model on training data\n",
    "logreg.fit(X_train, y_train_class)"
   ]
  },
  {
   "cell_type": "code",
   "execution_count": 5,
   "id": "954e8c3f",
   "metadata": {},
   "outputs": [],
   "source": [
    "y_pred_c = logreg.predict(X_test)"
   ]
  },
  {
   "cell_type": "code",
   "execution_count": 6,
   "id": "c8425665",
   "metadata": {},
   "outputs": [
    {
     "name": "stdout",
     "output_type": "stream",
     "text": [
      "Test Set Accuracy: 0.8246386145699156\n",
      "MAE: 0.995 (0.748)\n"
     ]
    }
   ],
   "source": [
    "# Model Accuracy, how often is the classifier correct?\n",
    "print(\"Test Set Accuracy:\",metrics.accuracy_score(y_test_class, y_pred_c))\n",
    "print('MAE: %.3f (%.3f)' % (np.mean(y_pred_c), np.std(y_pred_c)))"
   ]
  },
  {
   "cell_type": "code",
   "execution_count": 7,
   "id": "8816dab3",
   "metadata": {},
   "outputs": [
    {
     "data": {
      "text/plain": [
       "0.7325493010562052"
      ]
     },
     "execution_count": 7,
     "metadata": {},
     "output_type": "execute_result"
    }
   ],
   "source": [
    "cohen_kappa = cohen_kappa_score(y_test_class,y_pred_c)\n",
    "cohen_kappa"
   ]
  },
  {
   "cell_type": "code",
   "execution_count": 8,
   "id": "de22cb40",
   "metadata": {},
   "outputs": [
    {
     "data": {
      "image/png": "[encoded data removed]",
      "text/plain": [
       "<Figure size 432x288 with 2 Axes>"
      ]
     },
     "metadata": {
      "needs_background": "light"
     },
     "output_type": "display_data"
    }
   ],
   "source": [
    "cm = confusion_matrix(y_test_class, y_pred_c)\n",
    "disp = ConfusionMatrixDisplay(confusion_matrix=cm, display_labels=['Low','Medium','High'])\n",
    "disp.plot()\n",
    "plt.xticks(rotation=90)\n",
    "plt.tight_layout()"
   ]
  },
  {
   "cell_type": "markdown",
   "id": "0734cefc",
   "metadata": {},
   "source": [
    "## 10-fold cross-validation"
   ]
  },
  {
   "cell_type": "code",
   "execution_count": 9,
   "id": "56de277f",
   "metadata": {},
   "outputs": [
    {
     "name": "stdout",
     "output_type": "stream",
     "text": [
      "[0.8268928  0.8315443  0.83147274 0.82760842 0.82717905 0.83039931\n",
      " 0.82846715 0.83111493 0.82610562 0.82480498]\n",
      "The mean is 0.8285589294760344 with a standard deviation of 0.002302729062227289\n"
     ]
    }
   ],
   "source": [
    "inputs = np.concatenate((X_train, X_test), axis=0)\n",
    "targets = np.concatenate((y_train_class, y_test_class), axis=0)\n",
    "\n",
    "score = cross_val_score(estimator=logreg, X=inputs, y=targets, cv=10)\n",
    "print(score)\n",
    "print(\"The mean is \" + str(score.mean()) + \" with a standard deviation of \" + str(score.std()))"
   ]
  },
  {
   "cell_type": "code",
   "execution_count": 10,
   "id": "086611ce",
   "metadata": {},
   "outputs": [
    {
     "name": "stdout",
     "output_type": "stream",
     "text": [
      "[0.73627614 0.74339153 0.74310236 0.73732961 0.73659908 0.74175428\n",
      " 0.7387557  0.74264802 0.73512246 0.73305588]\n",
      "The mean is 0.7388035048101923 with a standard deviation of 0.0035074863088816544\n"
     ]
    }
   ],
   "source": [
    "inputs = np.concatenate((X_train, X_test), axis=0)\n",
    "targets = np.concatenate((y_train_class, y_test_class), axis=0)\n",
    "\n",
    "score = cross_val_score(estimator=logreg, X=inputs, y=targets, cv=10, scoring=make_scorer(cohen_kappa_score))\n",
    "print(score)\n",
    "print(\"The mean is \" + str(score.mean()) + \" with a standard deviation of \" + str(score.std()))"
   ]
  },
  {
   "cell_type": "code",
   "execution_count": 11,
   "id": "50c431ce",
   "metadata": {},
   "outputs": [
    {
     "name": "stdout",
     "output_type": "stream",
     "text": [
      "              precision    recall  f1-score   support\n",
      "\n",
      "         Low       0.86      0.90      0.88      7494\n",
      "      Medium       0.78      0.85      0.81     11267\n",
      "        High       0.87      0.73      0.79      9187\n",
      "\n",
      "    accuracy                           0.82     27948\n",
      "   macro avg       0.83      0.83      0.83     27948\n",
      "weighted avg       0.83      0.82      0.82     27948\n",
      "\n"
     ]
    }
   ],
   "source": [
    " print(classification_report(y_test_class, logreg.predict(X_test), target_names=['Low','Medium','High']))"
   ]
  },
  {
   "cell_type": "markdown",
   "id": "2c0542cc",
   "metadata": {},
   "source": [
    "# Classification without the transactional Data"
   ]
  },
  {
   "cell_type": "markdown",
   "id": "4ca9e5da",
   "metadata": {},
   "source": [
    "## Read in the Train and Test data"
   ]
  },
  {
   "cell_type": "code",
   "execution_count": 12,
   "id": "60350065",
   "metadata": {},
   "outputs": [],
   "source": [
    "X_train = np.array(pd.read_parquet(r'C:\\Users\\lb199\\rwth-aachen.de\\Kai Blumberg - Advanced Topics in Marketing Analytics\\data\\final\\X_train.parquet').drop(['sum_day_1','sum_day_2','sum_day_3','gradient','clumpiness'], axis=1)).astype('float')\n",
    "X_test = np.array(pd.read_parquet(r'C:\\Users\\lb199\\rwth-aachen.de\\Kai Blumberg - Advanced Topics in Marketing Analytics\\data\\final\\X_test.parquet').drop(['sum_day_1','sum_day_2','sum_day_3','gradient','clumpiness'], axis=1)).astype('float')  \n",
    "\n",
    "y_test_class = np.array(pd.read_parquet(r'C:\\Users\\lb199\\rwth-aachen.de\\Kai Blumberg - Advanced Topics in Marketing Analytics\\data\\final\\y_test.parquet')['sum_payments_package_key_ltv_class'])\n",
    "y_train_class = np.array(pd.read_parquet(r'C:\\Users\\lb199\\rwth-aachen.de\\Kai Blumberg - Advanced Topics in Marketing Analytics\\data\\final\\y_train.parquet')['sum_payments_package_key_ltv_class'])\n",
    "n_class = 3\n",
    "\n",
    "# cross validation variable\n",
    "cross_validation = True"
   ]
  },
  {
   "cell_type": "markdown",
   "id": "eb2a191e",
   "metadata": {},
   "source": [
    "## Train the Model"
   ]
  },
  {
   "cell_type": "code",
   "execution_count": 13,
   "id": "6c05f886",
   "metadata": {},
   "outputs": [
    {
     "data": {
      "text/plain": [
       "LogisticRegression(random_state=42)"
      ]
     },
     "execution_count": 13,
     "metadata": {},
     "output_type": "execute_result"
    }
   ],
   "source": [
    "logreg = LogisticRegression(random_state = 42)\n",
    "\n",
    "# Train the model on training data\n",
    "logreg.fit(X_train, y_train_class)"
   ]
  },
  {
   "cell_type": "code",
   "execution_count": 14,
   "id": "36a41a68",
   "metadata": {},
   "outputs": [],
   "source": [
    "y_pred_c = logreg.predict(X_test)"
   ]
  },
  {
   "cell_type": "code",
   "execution_count": 15,
   "id": "253146fb",
   "metadata": {},
   "outputs": [
    {
     "name": "stdout",
     "output_type": "stream",
     "text": [
      "Test Set Accuracy: 0.8270717045942465\n",
      "MAE: 0.990 (0.749)\n"
     ]
    }
   ],
   "source": [
    "# Model Accuracy, how often is the classifier correct?\n",
    "print(\"Test Set Accuracy:\",metrics.accuracy_score(y_test_class, y_pred_c))\n",
    "print('MAE: %.3f (%.3f)' % (np.mean(y_pred_c), np.std(y_pred_c)))"
   ]
  },
  {
   "cell_type": "code",
   "execution_count": 16,
   "id": "a96d1de6",
   "metadata": {},
   "outputs": [
    {
     "data": {
      "text/plain": [
       "0.7363401908272711"
      ]
     },
     "execution_count": 16,
     "metadata": {},
     "output_type": "execute_result"
    }
   ],
   "source": [
    "cohen_kappa = cohen_kappa_score(y_test_class,y_pred_c)\n",
    "cohen_kappa"
   ]
  },
  {
   "cell_type": "code",
   "execution_count": 17,
   "id": "6590ffff",
   "metadata": {},
   "outputs": [
    {
     "data": {
      "image/png": "[encoded data removed]",
      "text/plain": [
       "<Figure size 432x288 with 2 Axes>"
      ]
     },
     "metadata": {
      "needs_background": "light"
     },
     "output_type": "display_data"
    }
   ],
   "source": [
    "cm = confusion_matrix(y_test_class, y_pred_c)\n",
    "disp = ConfusionMatrixDisplay(confusion_matrix=cm, display_labels=['Low','Medium','High'])\n",
    "disp.plot()\n",
    "plt.xticks(rotation=90)\n",
    "plt.tight_layout()"
   ]
  },
  {
   "cell_type": "markdown",
   "id": "82818735",
   "metadata": {},
   "source": [
    "## 10-fold cross-validation"
   ]
  },
  {
   "cell_type": "code",
   "execution_count": 18,
   "id": "5ad7288e",
   "metadata": {},
   "outputs": [
    {
     "name": "stdout",
     "output_type": "stream",
     "text": [
      "[0.82810935 0.82882496 0.82954058 0.82603406 0.82653499 0.82982682\n",
      " 0.8287534  0.8319021  0.82710749 0.82509125]\n",
      "The mean is 0.8281724995795579 with a standard deviation of 0.001927905709402595\n"
     ]
    }
   ],
   "source": [
    "inputs = np.concatenate((X_train, X_test), axis=0)\n",
    "targets = np.concatenate((y_train_class, y_test_class), axis=0)\n",
    "\n",
    "score = cross_val_score(estimator=logreg, X=inputs, y=targets, cv=10)\n",
    "print(score)\n",
    "print(\"The mean is \" + str(score.mean()) + \" with a standard deviation of \" + str(score.std()))"
   ]
  },
  {
   "cell_type": "code",
   "execution_count": 19,
   "id": "381ed284",
   "metadata": {},
   "outputs": [
    {
     "name": "stdout",
     "output_type": "stream",
     "text": [
      "[0.73809236 0.73928298 0.74023006 0.73492306 0.73556725 0.74094464\n",
      " 0.73918127 0.74389289 0.73673645 0.73356143]\n",
      "The mean is 0.7382412394617618 with a standard deviation of 0.00295840358689792\n"
     ]
    }
   ],
   "source": [
    "inputs = np.concatenate((X_train, X_test), axis=0)\n",
    "targets = np.concatenate((y_train_class, y_test_class), axis=0)\n",
    "\n",
    "score = cross_val_score(estimator=logreg, X=inputs, y=targets, cv=10, scoring=make_scorer(cohen_kappa_score))\n",
    "print(score)\n",
    "print(\"The mean is \" + str(score.mean()) + \" with a standard deviation of \" + str(score.std()))"
   ]
  },
  {
   "cell_type": "code",
   "execution_count": 20,
   "id": "234268a0",
   "metadata": {},
   "outputs": [
    {
     "name": "stdout",
     "output_type": "stream",
     "text": [
      "              precision    recall  f1-score   support\n",
      "\n",
      "         Low       0.86      0.91      0.88      7494\n",
      "      Medium       0.78      0.85      0.81     11267\n",
      "        High       0.87      0.73      0.79      9187\n",
      "\n",
      "    accuracy                           0.83     27948\n",
      "   macro avg       0.84      0.83      0.83     27948\n",
      "weighted avg       0.83      0.83      0.83     27948\n",
      "\n"
     ]
    }
   ],
   "source": [
    "print(classification_report(y_test_class, logreg.predict(X_test), target_names=['Low','Medium','High']))"
   ]
  }
 ],
 "metadata": {
  "kernelspec": {
   "display_name": "Python 3",
   "language": "python",
   "name": "python3"
  },
  "language_info": {
   "codemirror_mode": {
    "name": "ipython",
    "version": 3
   },
   "file_extension": ".py",
   "mimetype": "text/x-python",
   "name": "python",
   "nbconvert_exporter": "python",
   "pygments_lexer": "ipython3",
   "version": "3.8.8"
  }
 },
 "nbformat": 4,
 "nbformat_minor": 5
}
