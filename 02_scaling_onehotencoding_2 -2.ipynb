{
 "cells": [
  {
   "cell_type": "code",
   "execution_count": 37,
   "metadata": {},
   "outputs": [],
   "source": [
    "# importing required libraries\n",
    "import pandas as pd\n",
    "import numpy as np\n",
    "from IPython.display import display\n",
    "import matplotlib.pyplot as plt\n",
    "import warnings\n",
    "import os\n",
    "from sklearn.preprocessing import StandardScaler\n",
    "from contextlib import contextmanager\n",
    "from sklearn.preprocessing import KBinsDiscretizer\n",
    "from sklearn.model_selection import train_test_split\n",
    "\n",
    "\n",
    "# library options\n",
    "%matplotlib inline\n",
    "pd.options.display.max_columns = None\n",
    "warnings.filterwarnings('ignore')"
   ]
  },
  {
   "cell_type": "code",
   "execution_count": 38,
   "metadata": {},
   "outputs": [],
   "source": [
    "# load_data\n",
    "df = pd.read_parquet(\"data/df_clean.parquet\", engine='pyarrow')"
   ]
  },
  {
   "cell_type": "code",
   "execution_count": 23,
   "metadata": {},
   "outputs": [],
   "source": [
    "features_123 = ['sum_day_1', 'sum_day_2', 'sum_day_3']\n",
    "features_clump = ['clumpiness']\n",
    "features_gradient = ['gradient']\n",
    "features_target = ['sum_payments_package_key_ltv_uncapped', 'sum_payments_package_key_ltv', 'n_payments_package_key_ltv', 'sum_payments_package_key_ltv_class']\n",
    "features_approach = features_gradient + features_clump + features_target\n",
    "\n",
    "# just considering buyer\n",
    "df = df[df[\"sum_payments_package_key\"] > 0.0]\n"
   ]
  },
  {
   "cell_type": "code",
   "execution_count": 24,
   "metadata": {},
   "outputs": [
    {
     "data": {
      "text/plain": [
       "array([[<AxesSubplot:title={'center':'0'}>]], dtype=object)"
      ]
     },
     "execution_count": 24,
     "metadata": {},
     "output_type": "execute_result"
    },
    {
     "data": {
      "image/png": "[encoded data removed]",
      "text/plain": [
       "<Figure size 432x288 with 1 Axes>"
      ]
     },
     "metadata": {
      "needs_background": "light"
     },
     "output_type": "display_data"
    }
   ],
   "source": [
    "nclass = 3\n",
    "target_df = np.array(df['sum_payments_package_key_ltv']).reshape(-1, 1)\n",
    "trans = KBinsDiscretizer(n_bins = nclass, encode = 'ordinal', strategy = 'quantile')\n",
    "#trans = KBinsDiscretizer(n_bins = nclass, encode='ordinal', strategy='uniform')\n",
    "target_class = trans.fit_transform(target_df)\n",
    "\n",
    "# convert the array back to a dataframe\n",
    "dataset = pd.DataFrame(target_class)\n",
    "# histograms of the variables\n",
    "dataset.hist()"
   ]
  },
  {
   "cell_type": "code",
   "execution_count": 25,
   "metadata": {},
   "outputs": [
    {
     "data": {
      "text/plain": [
       "[0.99, 2.99, 14.95, 164.81]"
      ]
     },
     "execution_count": 25,
     "metadata": {},
     "output_type": "execute_result"
    }
   ],
   "source": [
    "list(trans.bin_edges_[0])"
   ]
  },
  {
   "cell_type": "code",
   "execution_count": 26,
   "metadata": {},
   "outputs": [
    {
     "ename": "TypeError",
     "evalue": "'Series' object is not callable",
     "output_type": "error",
     "traceback": [
      "\u001b[0;31m---------------------------------------------------------------------------\u001b[0m",
      "\u001b[0;31mTypeError\u001b[0m                                 Traceback (most recent call last)",
      "\u001b[0;32m<ipython-input-26-34add51b45eb>\u001b[0m in \u001b[0;36m<module>\u001b[0;34m\u001b[0m\n\u001b[1;32m      1\u001b[0m \u001b[0mwidths\u001b[0m \u001b[0;34m=\u001b[0m \u001b[0;34m[\u001b[0m\u001b[0;34m]\u001b[0m\u001b[0;34m\u001b[0m\u001b[0;34m\u001b[0m\u001b[0m\n\u001b[0;32m----> 2\u001b[0;31m \u001b[0;32mfor\u001b[0m \u001b[0mi\u001b[0m \u001b[0;32min\u001b[0m \u001b[0mrange\u001b[0m\u001b[0;34m(\u001b[0m\u001b[0;36m0\u001b[0m\u001b[0;34m,\u001b[0m\u001b[0mlen\u001b[0m\u001b[0;34m(\u001b[0m\u001b[0mlist\u001b[0m\u001b[0;34m(\u001b[0m\u001b[0mtrans\u001b[0m\u001b[0;34m.\u001b[0m\u001b[0mbin_edges_\u001b[0m\u001b[0;34m[\u001b[0m\u001b[0;36m0\u001b[0m\u001b[0;34m]\u001b[0m\u001b[0;34m)\u001b[0m\u001b[0;34m)\u001b[0m\u001b[0;34m)\u001b[0m\u001b[0;34m:\u001b[0m\u001b[0;34m\u001b[0m\u001b[0;34m\u001b[0m\u001b[0m\n\u001b[0m\u001b[1;32m      3\u001b[0m     \u001b[0mwidths\u001b[0m\u001b[0;34m.\u001b[0m\u001b[0mappend\u001b[0m\u001b[0;34m(\u001b[0m\u001b[0mlist\u001b[0m\u001b[0;34m(\u001b[0m\u001b[0mtrans\u001b[0m\u001b[0;34m.\u001b[0m\u001b[0mbin_edges_\u001b[0m\u001b[0;34m[\u001b[0m\u001b[0;36m0\u001b[0m\u001b[0;34m]\u001b[0m\u001b[0;34m)\u001b[0m\u001b[0;34m[\u001b[0m\u001b[0mi\u001b[0m\u001b[0;34m+\u001b[0m\u001b[0;36m1\u001b[0m\u001b[0;34m]\u001b[0m\u001b[0;34m-\u001b[0m\u001b[0mlist\u001b[0m\u001b[0;34m(\u001b[0m\u001b[0mtrans\u001b[0m\u001b[0;34m.\u001b[0m\u001b[0mbin_edges_\u001b[0m\u001b[0;34m[\u001b[0m\u001b[0;36m0\u001b[0m\u001b[0;34m]\u001b[0m\u001b[0;34m)\u001b[0m\u001b[0;34m[\u001b[0m\u001b[0mi\u001b[0m\u001b[0;34m]\u001b[0m\u001b[0;34m)\u001b[0m\u001b[0;34m\u001b[0m\u001b[0;34m\u001b[0m\u001b[0m\n\u001b[1;32m      4\u001b[0m     \u001b[0;32mif\u001b[0m \u001b[0mi\u001b[0m \u001b[0;34m+\u001b[0m \u001b[0;36m2\u001b[0m \u001b[0;34m==\u001b[0m \u001b[0mlen\u001b[0m\u001b[0;34m(\u001b[0m\u001b[0mlist\u001b[0m\u001b[0;34m(\u001b[0m\u001b[0mtrans\u001b[0m\u001b[0;34m.\u001b[0m\u001b[0mbin_edges_\u001b[0m\u001b[0;34m[\u001b[0m\u001b[0;36m0\u001b[0m\u001b[0;34m]\u001b[0m\u001b[0;34m)\u001b[0m\u001b[0;34m)\u001b[0m\u001b[0;34m:\u001b[0m\u001b[0;34m\u001b[0m\u001b[0;34m\u001b[0m\u001b[0m\n\u001b[1;32m      5\u001b[0m         \u001b[0;32mbreak\u001b[0m\u001b[0;34m\u001b[0m\u001b[0;34m\u001b[0m\u001b[0m\n",
      "\u001b[0;31mTypeError\u001b[0m: 'Series' object is not callable"
     ]
    }
   ],
   "source": [
    "widths = []\n",
    "for i in range(0,len(list(trans.bin_edges_[0]))):\n",
    "    widths.append(list(trans.bin_edges_[0])[i+1]-list(trans.bin_edges_[0])[i])\n",
    "    if i + 2 == len(list(trans.bin_edges_[0])):\n",
    "        break\n",
    "        \n",
    "x_mid = []\n",
    "counter = 0\n",
    "for j in list(trans.bin_edges_[0]):\n",
    "    if counter < len(widths):\n",
    "        x_mid.append(j + widths[counter] / 2)\n",
    "        counter += 1\n",
    "\n",
    "plt.figure(figsize=(20, 8))\n",
    "barlist = plt.bar(x_mid,list(dataset[0].value_counts()), width = widths)\n",
    "colors = ['#4472C4', '#ED7D31', '#70AD47']\n",
    "for i in range(len(barlist)):\n",
    "    barlist[i].set_color(colors[i])\n",
    "#Create the title, axis description and legend\n",
    "plt.title('Discretization into equal-frequency Bins')\n",
    "plt.ylabel('Target Value Data Points')\n",
    "plt.xlabel(\"Bins\")\n",
    "#plt.legend()\n",
    "#plt.grid()\n",
    "#plt.xticks(rotation = 0)\n",
    "plt.rcParams.update({'font.size': 12})\n",
    "plt.savefig('results/bins.png')"
   ]
  },
  {
   "cell_type": "code",
   "execution_count": 8,
   "metadata": {},
   "outputs": [],
   "source": [
    "# TODO change classes change int to low med high\n",
    "\n",
    "df['sum_payments_package_key_ltv_class'] = target_class.astype('int')\n",
    "#df['sum_payments_package_key_ltv_class'] = df['sum_payments_package_key_ltv_class'].apply(lambda x: 'low' if x == 0 else 'medium' if x == 1 else 'high' if x == 2 else 'fail')\n"
   ]
  },
  {
   "cell_type": "code",
   "execution_count": 9,
   "metadata": {},
   "outputs": [],
   "source": [
    "# features to scale (just numeric)\n",
    "features_to_scale = df.select_dtypes(include=np.number).columns.tolist()\n",
    "\n",
    "# features to encode (just categorical)\n",
    "features_to_encode = list(set(df) - set(features_to_scale + ['sum_payments_package_key_ltv_class']))\n",
    "\n",
    "# do not scale approach features (123 and clumpiness)\n",
    "features_to_scale = [feature for feature in features_to_scale if feature not in features_approach]\n",
    "\n",
    "# only scale features with a range greater equal than a chosen threshhold\n",
    "threshhold = 3\n",
    "range = (df[features_to_scale].max() - df[features_to_scale].min()) # range(min,max) of a feature\n",
    "features_to_scale = range[range >= threshhold].keys().tolist()"
   ]
  },
  {
   "cell_type": "code",
   "execution_count": 10,
   "metadata": {},
   "outputs": [
    {
     "data": {
      "text/plain": [
       "StandardScaler()"
      ]
     },
     "execution_count": 10,
     "metadata": {},
     "output_type": "execute_result"
    }
   ],
   "source": [
    "# initialize and fit scaler\n",
    "scaler = StandardScaler()\n",
    "scaler.fit(df[features_to_scale])\n",
    "\n",
    "#scaler.mean_"
   ]
  },
  {
   "cell_type": "code",
   "execution_count": 11,
   "metadata": {},
   "outputs": [
    {
     "data": {
      "text/plain": [
       "['n_ad_reward_claims',\n",
       " 'n_ad_reward_fails',\n",
       " 'n_ads_watched',\n",
       " 'n_battlepass_lvls_finished',\n",
       " 'masked_feature_0',\n",
       " 'masked_feature_1',\n",
       " 'masked_feature_2',\n",
       " 'masked_feature_3',\n",
       " 'masked_feature_4',\n",
       " 'masked_feature_5',\n",
       " 'masked_feature_6',\n",
       " 'masked_feature_8',\n",
       " 'masked_feature_13',\n",
       " 'masked_feature_14',\n",
       " 'masked_feature_15',\n",
       " 'masked_feature_20',\n",
       " 'masked_feature_21',\n",
       " 'masked_feature_22',\n",
       " 'masked_feature_23',\n",
       " 'masked_feature_24',\n",
       " 'masked_feature_25',\n",
       " 'masked_feature_27',\n",
       " 'masked_feature_28',\n",
       " 'n_extra_challenge_buys',\n",
       " 'n_friend_installs',\n",
       " 'masked_feature_31',\n",
       " 'n_clicked_add_friends',\n",
       " 'n_friend_searches',\n",
       " 'masked_feature_32',\n",
       " 'masked_feature_35',\n",
       " 'masked_feature_36',\n",
       " 'masked_feature_37',\n",
       " 'n_levels_completed',\n",
       " 'n_missions_completed',\n",
       " 'n_package_info_offers_viewed',\n",
       " 'n_payments_package_key',\n",
       " 'sum_payments_package_key',\n",
       " 'n_package_tips_offers_viewed',\n",
       " 'masked_feature_39',\n",
       " 'n_sessions_ended',\n",
       " 'total_session_duration',\n",
       " 'max_session_end_player_level',\n",
       " 'n_sessions_started',\n",
       " 'min_session_start_player_level',\n",
       " 'n_viplevels_completed',\n",
       " 'bigmac_dollar_price',\n",
       " 'gdp_per_capita',\n",
       " 'ram_max',\n",
       " 'screen_density',\n",
       " 'avg_country_spend_30d',\n",
       " 'avg_country_spend_30d_first3d',\n",
       " 'screen_width',\n",
       " 'screen_height',\n",
       " 'masked_feature_41',\n",
       " 'nunique_iaps_bought',\n",
       " 'sum_day_1',\n",
       " 'sum_day_2',\n",
       " 'sum_day_3']"
      ]
     },
     "execution_count": 11,
     "metadata": {},
     "output_type": "execute_result"
    }
   ],
   "source": [
    "#features_to_scale\n",
    "features_to_scale"
   ]
  },
  {
   "cell_type": "code",
   "execution_count": 27,
   "metadata": {},
   "outputs": [],
   "source": [
    "# scaling\n",
    "df[features_to_scale] = scaler.transform(df[features_to_scale])\n"
   ]
  },
  {
   "cell_type": "code",
   "execution_count": 28,
   "metadata": {},
   "outputs": [],
   "source": [
    "# onehot encoding\n",
    "df = pd.get_dummies(df, columns = features_to_encode)\n"
   ]
  },
  {
   "cell_type": "code",
   "execution_count": 29,
   "metadata": {
    "scrolled": false
   },
   "outputs": [
    {
     "data": {
      "text/plain": [
       "['n_ad_reward_claims',\n",
       " 'n_ad_reward_fails',\n",
       " 'n_ads_watched',\n",
       " 'n_battlepass_lvls_finished',\n",
       " 'masked_feature_0',\n",
       " 'masked_feature_1',\n",
       " 'masked_feature_2',\n",
       " 'masked_feature_3',\n",
       " 'masked_feature_4',\n",
       " 'masked_feature_5',\n",
       " 'masked_feature_6',\n",
       " 'masked_feature_7',\n",
       " 'masked_feature_8',\n",
       " 'masked_feature_13',\n",
       " 'masked_feature_14',\n",
       " 'masked_feature_15',\n",
       " 'masked_feature_20',\n",
       " 'masked_feature_21',\n",
       " 'masked_feature_22',\n",
       " 'masked_feature_23',\n",
       " 'masked_feature_24',\n",
       " 'masked_feature_25',\n",
       " 'n_instant_awards_claims',\n",
       " 'masked_feature_27',\n",
       " 'masked_feature_28',\n",
       " 'masked_feature_29',\n",
       " 'n_extra_challenge_buys',\n",
       " 'connected_fb',\n",
       " 'connect_fb_attempt',\n",
       " 'n_friend_installs',\n",
       " 'masked_feature_30',\n",
       " 'masked_feature_31',\n",
       " 'n_accept_all_friends',\n",
       " 'n_accept_friend',\n",
       " 'n_clicked_add_friends',\n",
       " 'n_friend_searches',\n",
       " 'masked_feature_32',\n",
       " 'masked_feature_35',\n",
       " 'masked_feature_36',\n",
       " 'masked_feature_37',\n",
       " 'masked_feature_38',\n",
       " 'n_levels_completed',\n",
       " 'n_missions_completed',\n",
       " 'n_package_info_offers_viewed',\n",
       " 'n_payments_package_key',\n",
       " 'sum_payments_package_key',\n",
       " 'n_package_tips_offers_viewed',\n",
       " 'rated_game',\n",
       " 'n_remove_ad_clicks',\n",
       " 'masked_feature_39',\n",
       " 'n_sessions_ended',\n",
       " 'total_session_duration',\n",
       " 'max_session_end_player_level',\n",
       " 'n_sessions_started',\n",
       " 'min_session_start_player_level',\n",
       " 'n_time_skip_buys',\n",
       " 'n_viplevels_completed',\n",
       " 'bigmac_dollar_price',\n",
       " 'gdp_per_capita',\n",
       " 'ram_max',\n",
       " 'screen_density',\n",
       " 'avg_country_spend_30d',\n",
       " 'avg_country_spend_30d_first3d',\n",
       " 'screen_width',\n",
       " 'screen_height',\n",
       " 'nunique_network_types',\n",
       " 'masked_feature_41',\n",
       " 'nunique_iaps_bought',\n",
       " 'first_login_country_is_mfreq',\n",
       " 'time_between_last_purchase_last_login',\n",
       " 'sum_payments_package_key_ltv',\n",
       " 'n_payments_package_key_ltv',\n",
       " 'sum_payments_package_key_ltv_uncapped',\n",
       " 'sum_day_1',\n",
       " 'sum_day_2',\n",
       " 'sum_day_3',\n",
       " 'clumpiness',\n",
       " 'gradient',\n",
       " 'sum_payments_package_key_ltv_class',\n",
       " 'battlepass_0.0_False',\n",
       " 'battlepass_0.0_True',\n",
       " 'most_frequent_network_type_3G',\n",
       " 'most_frequent_network_type_4G',\n",
       " 'most_frequent_network_type_NULL',\n",
       " 'most_frequent_network_type_WIFI',\n",
       " 'first_device_manufacturer_Apple',\n",
       " 'first_device_manufacturer_Google',\n",
       " 'first_device_manufacturer_HUAWEI',\n",
       " 'first_device_manufacturer_LGE',\n",
       " 'first_device_manufacturer_OPPO',\n",
       " 'first_device_manufacturer_OnePlus',\n",
       " 'first_device_manufacturer_Xiaomi',\n",
       " 'first_device_manufacturer_motorola',\n",
       " 'first_device_manufacturer_other',\n",
       " 'first_device_manufacturer_realme',\n",
       " 'first_device_manufacturer_samsung',\n",
       " 'first_device_manufacturer_vivo',\n",
       " 'first_network_type_3G',\n",
       " 'first_network_type_4G',\n",
       " 'first_network_type_NULL',\n",
       " 'first_network_type_WIFI',\n",
       " 'first_login_country_AF_Others',\n",
       " 'first_login_country_AS_Others',\n",
       " 'first_login_country_AU',\n",
       " 'first_login_country_BR',\n",
       " 'first_login_country_CA',\n",
       " 'first_login_country_DE',\n",
       " 'first_login_country_EU_Others',\n",
       " 'first_login_country_FR',\n",
       " 'first_login_country_GB',\n",
       " 'first_login_country_ID',\n",
       " 'first_login_country_IN',\n",
       " 'first_login_country_JP',\n",
       " 'first_login_country_KR',\n",
       " 'first_login_country_MY',\n",
       " 'first_login_country_NA_Others',\n",
       " 'first_login_country_NL',\n",
       " 'first_login_country_OC_Others',\n",
       " 'first_login_country_PH',\n",
       " 'first_login_country_PL',\n",
       " 'first_login_country_RU',\n",
       " 'first_login_country_SA',\n",
       " 'first_login_country_SA_Others',\n",
       " 'first_login_country_TH',\n",
       " 'first_login_country_TR',\n",
       " 'first_login_country_TW',\n",
       " 'first_login_country_US',\n",
       " 'first_login_country_VN',\n",
       " 'first_login_weekday_Friday',\n",
       " 'first_login_weekday_Monday',\n",
       " 'first_login_weekday_Saturday',\n",
       " 'first_login_weekday_Sunday',\n",
       " 'first_login_weekday_Thursday',\n",
       " 'first_login_weekday_Tuesday',\n",
       " 'first_login_weekday_Wednesday',\n",
       " 'device_language_ar',\n",
       " 'device_language_de',\n",
       " 'device_language_en',\n",
       " 'device_language_es',\n",
       " 'device_language_fr',\n",
       " 'device_language_ja',\n",
       " 'device_language_ko',\n",
       " 'device_language_other',\n",
       " 'device_language_pl',\n",
       " 'device_language_pt',\n",
       " 'device_language_ru',\n",
       " 'device_language_th',\n",
       " 'device_language_tr',\n",
       " 'device_language_vi',\n",
       " 'device_language_zh',\n",
       " 'battlepass_8008.0_False',\n",
       " 'battlepass_8008.0_True',\n",
       " 'continent_AF',\n",
       " 'continent_AS',\n",
       " 'continent_EU',\n",
       " 'continent_NA',\n",
       " 'continent_OC',\n",
       " 'continent_SA',\n",
       " 'battlepass_22.0_False',\n",
       " 'battlepass_22.0_True',\n",
       " 'battlepass_23.0_False',\n",
       " 'battlepass_23.0_True',\n",
       " 'form_factor_Chromebook',\n",
       " 'form_factor_Phone',\n",
       " 'form_factor_Tablet',\n",
       " 'first_login_day_time_early_morning',\n",
       " 'first_login_day_time_eve',\n",
       " 'first_login_day_time_late_night',\n",
       " 'first_login_day_time_morning',\n",
       " 'first_login_day_time_night',\n",
       " 'first_login_day_time_noon',\n",
       " 'first_time_zone_+00:00',\n",
       " 'first_time_zone_+01:00',\n",
       " 'first_time_zone_+02:00',\n",
       " 'first_time_zone_+03:00',\n",
       " 'first_time_zone_+05:30',\n",
       " 'first_time_zone_+07:00',\n",
       " 'first_time_zone_+08:00',\n",
       " 'first_time_zone_+09:00',\n",
       " 'first_time_zone_-03:00',\n",
       " 'first_time_zone_-04:00',\n",
       " 'first_time_zone_-05:00',\n",
       " 'first_time_zone_-06:00',\n",
       " 'first_time_zone_-07:00']"
      ]
     },
     "execution_count": 29,
     "metadata": {},
     "output_type": "execute_result"
    }
   ],
   "source": [
    "list(df.columns)"
   ]
  },
  {
   "cell_type": "code",
   "execution_count": 15,
   "metadata": {},
   "outputs": [],
   "source": [
    "# Split into Train and Test\n",
    "target_columns = ['sum_payments_package_key_ltv','sum_payments_package_key_ltv_class']\n",
    "feature_columns = list(set(df.columns) - set(['sum_payments_package_key_ltv_class','sum_payments_package_key_ltv', 'n_payments_package_key_ltv', 'sum_payments_package_key_ltv_uncapped']))\n",
    "X_train, X_test, y_train, y_test = train_test_split(df[feature_columns], df[target_columns] , test_size = 0.2, random_state=42)\n"
   ]
  },
  {
   "cell_type": "code",
   "execution_count": 16,
   "metadata": {},
   "outputs": [
    {
     "name": "stdout",
     "output_type": "stream",
     "text": [
      "Training Features Shape: (111791, 180)\n",
      "Training Labels Shape: (111791, 2)\n",
      "Testing Features Shape: (27948, 180)\n",
      "Testing Labels Shape: (27948, 2)\n"
     ]
    }
   ],
   "source": [
    "# reorder columns: approach_features at the end\n",
    "features_right = list(set(features_approach) - set(features_target))\n",
    "\n",
    "cols = X_train.columns.tolist()\n",
    "cols_reorder = [x for x in cols if x not in features_right] + features_right\n",
    "X_train = X_train[cols_reorder]\n",
    "X_test = X_test[cols_reorder]\n",
    "\n",
    "print('Training Features Shape:', X_train.shape)\n",
    "print('Training Labels Shape:', y_train.shape)\n",
    "print('Testing Features Shape:', X_test.shape)\n",
    "print('Testing Labels Shape:', y_test.shape)"
   ]
  },
  {
   "cell_type": "code",
   "execution_count": 17,
   "metadata": {},
   "outputs": [],
   "source": [
    "# save data\n",
    "X_train.to_parquet(\"data/X_train.parquet\")\n",
    "X_test.to_parquet(\"data/X_test.parquet\")\n",
    "y_train.to_parquet(\"data/y_train.parquet\")\n",
    "y_test.to_parquet(\"data/y_test.parquet\")"
   ]
  },
  {
   "cell_type": "code",
   "execution_count": null,
   "metadata": {},
   "outputs": [],
   "source": []
  }
 ],
 "metadata": {
  "interpreter": {
   "hash": "06e87fc6394d8873b4ceac6ff7bcf39ba204d0a8f1170052b0425aec2106e483"
  },
  "kernelspec": {
   "display_name": "Python 3",
   "language": "python",
   "name": "python3"
  },
  "language_info": {
   "codemirror_mode": {
    "name": "ipython",
    "version": 3
   },
   "file_extension": ".py",
   "mimetype": "text/x-python",
   "name": "python",
   "nbconvert_exporter": "python",
   "pygments_lexer": "ipython3",
   "version": "3.8.5"
  }
 },
 "nbformat": 4,
 "nbformat_minor": 2
}
